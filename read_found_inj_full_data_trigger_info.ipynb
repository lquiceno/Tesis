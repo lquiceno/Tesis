{
 "cells": [
  {
   "cell_type": "code",
   "execution_count": 17,
   "id": "b3170ff1-50b4-4911-8132-ba6f2e60680a",
   "metadata": {},
   "outputs": [],
   "source": [
    "import numpy as np\n",
    "import os\n",
    "from pycbc.io import HFile, get_all_subkeys\n",
    "from pycbc.events import coinc\n",
    "import pycbc.io"
   ]
  },
  {
   "cell_type": "code",
   "execution_count": 2,
   "id": "85969c89-2e21-48dc-b04e-d5378339698d",
   "metadata": {},
   "outputs": [],
   "source": [
    "def get_trigger_info(ttype, sfile, bank, merge_trig_temp):\n",
    "    '''Read all relevant information\n",
    "    '''\n",
    "    merge_fields = ['coa_phase', 'snr']\n",
    "    ifos = sfile.attrs['ifos'].split(' ') #ifos toma el atributo ifos del archivo sfile y lo divide en una lista de interferómetros, que se usan para acceder a datos específicos de cada detector\n",
    "    \n",
    "    params = {}\n",
    "    params['stat'] = sfile[f'{ttype}/stat'.format(section)][:]\n",
    "    if 'ifar' in sfile[f'{ttype}'.format(section)]:\n",
    "        params['ifar'] = sfile[f'{ttype}/ifar'.format(section)][:]\n",
    "    elif 'ifar_exc' in sfile[f'{ttype}'.format(section)]:\n",
    "        params['ifar'] = sfile[f'{ttype}/ifar_exc'.format(section)][:]\n",
    "    else:\n",
    "        raise KeyError(\"ifar or ifar_exc does not found in\")\n",
    "        \n",
    "    bank_ids = sfile[f'{ttype}/template_id'.format(section)][:]\n",
    "    \n",
    "    for ifo in ifos:\n",
    "        params[f'time_{ifo}'] = sfile[f'{ttype}/{ifo}/time'][:]\n",
    "        params[f'tid_{ifo}'] = sfile[f'{ttype}/{ifo}/trigger_id'][:]\n",
    "        tids = sfile[f'{ttype}/{ifo}/trigger_id'][:]\n",
    "        tids = tids[tids >= 0]\n",
    "        # print(ifo, tids.shape, params[f'tid_{ifo}'].shape)\n",
    "        \n",
    "        sngls = pycbc.io.SingleDetTriggers(merge_trig_temp.format(ifo), bank_file, \n",
    "                                None, None, None, detector=ifo, premask=tids)\n",
    "        for field in merge_fields:\n",
    "            print(f\"reading field {field} for {ifo}\")\n",
    "            params[f'{field}_{ifo}'] = -1 * np.ones_like(params[f'time_{ifo}'])\n",
    "            # print(field, f'{field}_{ifo}', params[f'{field}_{ifo}'].shape)\n",
    "            # These are idexings and hence RAM heavy\n",
    "            try:\n",
    "                params[f'{field}_{ifo}'][params[f'tid_{ifo}'] >= 0] = getattr(sngls, f'{field}')\n",
    "            except AttributeError:\n",
    "                params[f'{field}_{ifo}'][params[f'tid_{ifo}'] >= 0] = sngls.get_column(f'{field}')\n",
    "            except Exception as e:\n",
    "                print(f\"An error occurred: {e}\")\n",
    "                \n",
    "    params['mean_time'] = [coinc.mean_if_greater_than_zero([params[f'time_{ifo}'][cnt] for ifo in ifos])[0]\n",
    "                           for cnt in range(len(params['stat']))]\n",
    "    params['mean_time'] = np.array(params['mean_time'])\n",
    "\n",
    "    template_fields = ['mass1', 'mass2', 'spin1z', 'spin2z']\n",
    "    for field in template_fields:\n",
    "        params[f'{field}'] = bank[f'{field}'][:][bank_ids]\n",
    "    \n",
    "    return params"
   ]
  },
  {
   "cell_type": "code",
   "execution_count": null,
   "id": "03a2be7b-9ec0-45d9-98b6-a032e1850662",
   "metadata": {},
   "outputs": [],
   "source": []
  },
  {
   "cell_type": "markdown",
   "id": "0f0ba86e-039c-437b-b208-5bf0f8ea9d75",
   "metadata": {},
   "source": [
    "## Paths on CIT for first 5 O3 chunks:\n",
    " - /home/bhooshan.gadre/work/O3/sub_solar_search/chunk{2,4,5}_rerun_extrainj_rerun/output/\n",
    " - /home/bhooshan.gadre/work/O3/sub_solar_search/chunk1_rerun_extrainj_ssm2/output\n",
    " - /home/bhooshan.gadre/work/O3/sub_solar_search/chunk3_rerun_extrainj/output/"
   ]
  },
  {
   "cell_type": "markdown",
   "id": "92104da8-378a-41e5-9041-07cc2c7937a4",
   "metadata": {},
   "source": [
    "## Injection sets:\n",
    " - There are 4 injection sets per chunk: SSM1SEOBNRV4 and SSM{1,2,3}STT5\n",
    " - Each can be read separately using the code below"
   ]
  },
  {
   "cell_type": "code",
   "execution_count": 3,
   "id": "5ff131d7-dbf2-482a-9842-d17bc0cd97dd",
   "metadata": {},
   "outputs": [
    {
     "name": "stdout",
     "output_type": "stream",
     "text": [
      "/home/bhooshan.gadre/work/O3/sub_solar_search/chunk5_rerun_extrainj_rerun/output/bank/H1L1V1-BANK2HDF-1241010950-714094.hdf\n"
     ]
    }
   ],
   "source": [
    "run_path = '/home/bhooshan.gadre/work/O3/sub_solar_search/chunk5_rerun_extrainj_rerun/output'\n",
    "\n",
    "## Use the following to figure out chunk start (UTC) and chunk duration (sec) to be used later to access relevant files\n",
    "!ls $run_path/bank/H1L1V1-BANK2HDF-*\n",
    "\n",
    "## output should be H1L1V1-BANK2HDF-{chunk_start}-{chunk_duration}.hdf"
   ]
  },
  {
   "cell_type": "code",
   "execution_count": 4,
   "id": "d99ee623-7bce-436c-9593-a9826441eb8d",
   "metadata": {},
   "outputs": [],
   "source": [
    "chunk_start = 1241010950\n",
    "chunk_duration = 714094"
   ]
  },
  {
   "cell_type": "code",
   "execution_count": null,
   "id": "6488bc00-5c91-4d83-851f-5b6ac36c19fe",
   "metadata": {},
   "outputs": [],
   "source": []
  },
  {
   "cell_type": "markdown",
   "id": "f331a7db-d2a9-4252-b489-6539a822d646",
   "metadata": {},
   "source": [
    "## Use the following to read different injection sets."
   ]
  },
  {
   "cell_type": "markdown",
   "id": "fc34f853-7635-41b6-bab8-fd2a281bb447",
   "metadata": {},
   "source": [
    "## To read injected parameters:"
   ]
  },
  {
   "cell_type": "code",
   "execution_count": 5,
   "id": "549385d9-872e-4b92-8292-c515362c0c83",
   "metadata": {},
   "outputs": [],
   "source": [
    "inj_type = 'SSM1SEOBNRV4' ## SSM{1,2,3}STT5\n",
    "\n",
    "sfile =  HFile(os.path.join(run_path, \n",
    "                            f'{inj_type}_INJ_coinc/H1L1V1-HDFINJFIND_{inj_type}_INJ_INJECTIONS-{chunk_start}-{chunk_duration}.hdf'))\n",
    "## The file handle below contain all the injection sets combined with missed-found info. \n",
    "## But the file cannot be used to extract trigger template parameters.\n",
    "\n",
    "# allinj = HFile(os.path.join(run_path, \n",
    "                            # f'allinj/H1L1V1-HDFINJFIND_ALL_INJECTIONS-{chunk_start}-{chunk_duration}.hdf'))"
   ]
  },
  {
   "cell_type": "code",
   "execution_count": 6,
   "id": "d9ae11ec-0552-4e9a-8f2e-baaacd33da2d",
   "metadata": {},
   "outputs": [
    {
     "data": {
      "text/plain": [
       "<KeysViewHDF5 ['coa_phase', 'distance', 'eff_dist_h', 'eff_dist_l', 'eff_dist_v', 'end_time', 'inclination', 'latitude', 'longitude', 'mass1', 'mass2', 'optimal_snr_H1', 'optimal_snr_L1', 'optimal_snr_V1', 'polarization', 'spin1x', 'spin1y', 'spin1z', 'spin2x', 'spin2y', 'spin2z']>"
      ]
     },
     "execution_count": 6,
     "metadata": {},
     "output_type": "execute_result"
    }
   ],
   "source": [
    "sfile['injections'].keys()"
   ]
  },
  {
   "cell_type": "code",
   "execution_count": 7,
   "id": "0c2ce085-833f-4e3c-8862-1079d25c2316",
   "metadata": {},
   "outputs": [],
   "source": [
    "found_ids = sfile['found_after_vetoes']['injection_index'][:]\n",
    "\n",
    "found_injection = {k: sfile['injections'][k][:][found_ids] for k in sfile['injections'].keys()}\n",
    "# found_injection"
   ]
  },
  {
   "cell_type": "code",
   "execution_count": null,
   "id": "c3f0213b-43c1-4434-b3c9-58ced1ee32ee",
   "metadata": {},
   "outputs": [],
   "source": []
  },
  {
   "cell_type": "markdown",
   "id": "698e189b-08ed-4b51-82de-8bb4c135bf3b",
   "metadata": {},
   "source": [
    "## To read found injection information\n",
    " - trigger template (same for all ifos due to exact coincidence search), stat, FAR, ifo specofic SNRs, phases, times\n"
   ]
  },
  {
   "cell_type": "code",
   "execution_count": null,
   "id": "b8c0daa7-1e94-4f05-bf47-c7280c2d9327",
   "metadata": {},
   "outputs": [],
   "source": []
  },
  {
   "cell_type": "code",
   "execution_count": 8,
   "id": "2ce0aaab-2985-4300-bd55-10095f47318c",
   "metadata": {},
   "outputs": [],
   "source": [
    "merge_trig_temp = os.path.join(run_path, \n",
    "                               f'{inj_type}_INJ_coinc/{{}}-HDF_TRIGGER_MERGE_{inj_type}_INJ_INJECTIONS-{chunk_start}-{chunk_duration}.hdf'\n",
    "                              )"
   ]
  },
  {
   "cell_type": "code",
   "execution_count": 9,
   "id": "fee2966c-07bc-4309-84d5-4c768e48a7c1",
   "metadata": {},
   "outputs": [],
   "source": [
    "bank_file = os.path.join(run_path, \n",
    "                         f'bank/H1L1V1-BANK2HDF-{chunk_start}-{chunk_duration}.hdf')\n",
    "bank = HFile(bank_file, 'r')"
   ]
  },
  {
   "cell_type": "code",
   "execution_count": 10,
   "id": "320b6c1a-a8a3-4b95-9a3d-b643a929be8a",
   "metadata": {},
   "outputs": [
    {
     "name": "stdout",
     "output_type": "stream",
     "text": [
      "reading field coa_phase for H1\n",
      "reading field snr for H1\n",
      "reading field coa_phase for L1\n",
      "reading field snr for L1\n",
      "reading field coa_phase for V1\n",
      "reading field snr for V1\n"
     ]
    }
   ],
   "source": [
    "section = 'found_after_vetoes'\n",
    "params_eob_inj = get_trigger_info(section, sfile, bank, merge_trig_temp)\n",
    "\n",
    "# tid_{ifo} field is really irrelevant after fetching all the information. Those can/should be removed to save memory. "
   ]
  },
  {
   "cell_type": "code",
   "execution_count": 11,
   "id": "c9e48843-9917-4d89-9cd7-ec230504e7a1",
   "metadata": {},
   "outputs": [
    {
     "data": {
      "text/plain": [
       "dict_keys(['stat', 'ifar', 'time_H1', 'tid_H1', 'coa_phase_H1', 'snr_H1', 'time_L1', 'tid_L1', 'coa_phase_L1', 'snr_L1', 'time_V1', 'tid_V1', 'coa_phase_V1', 'snr_V1', 'mean_time', 'mass1', 'mass2', 'spin1z', 'spin2z'])"
      ]
     },
     "execution_count": 11,
     "metadata": {},
     "output_type": "execute_result"
    }
   ],
   "source": [
    "params_eob_inj.keys()"
   ]
  },
  {
   "cell_type": "markdown",
   "id": "3e0dce67-68e5-4b90-a57e-f1850e591a5e",
   "metadata": {},
   "source": [
    "## Use the following to read full_data (real data foreground and background)"
   ]
  },
  {
   "cell_type": "code",
   "execution_count": 12,
   "id": "32b3ecec-865a-40ef-8100-bc80bb2c0952",
   "metadata": {},
   "outputs": [],
   "source": [
    "bank_file = os.path.join(run_path, \n",
    "                         f'bank/H1L1V1-BANK2HDF-{chunk_start}-{chunk_duration}.hdf') #es la misma que la de arriba \n",
    "merge_trig_temp = os.path.join(run_path, \n",
    "                               f'full_data/{{}}-HDF_TRIGGER_MERGE_FULL_DATA-{chunk_start}-{chunk_duration}.hdf')\n",
    "statmap_file = os.path.join(run_path, \n",
    "                            f'full_data/H1L1V1-COMBINE_STATMAP_FULL_DATA-{chunk_start}-{chunk_duration}.hdf')"
   ]
  },
  {
   "cell_type": "code",
   "execution_count": 13,
   "id": "ccc7ebe5-0f4a-4192-a271-8cda0cb5c1f5",
   "metadata": {},
   "outputs": [],
   "source": [
    "bank = HFile(bank_file, 'r')\n",
    "sfile = HFile(statmap_file, 'r')"
   ]
  },
  {
   "cell_type": "code",
   "execution_count": null,
   "id": "e78c7c08-4d22-4857-9a03-97b452922de2",
   "metadata": {},
   "outputs": [],
   "source": []
  },
  {
   "cell_type": "code",
   "execution_count": 14,
   "id": "f13c664f-3a2e-4ece-bf88-d2325f635d93",
   "metadata": {},
   "outputs": [
    {
     "name": "stdout",
     "output_type": "stream",
     "text": [
      "reading field coa_phase for H1\n",
      "reading field snr for H1\n",
      "reading field coa_phase for L1\n",
      "reading field snr for L1\n",
      "reading field coa_phase for V1\n",
      "reading field snr for V1\n"
     ]
    }
   ],
   "source": [
    "section = 'foreground' # 'background', 'background_exc'\n",
    "paramsf = get_trigger_info(section, sfile, bank, merge_trig_temp)"
   ]
  },
  {
   "cell_type": "code",
   "execution_count": 15,
   "id": "dcceaa3e-4d79-4127-bf11-89feabb1d7ca",
   "metadata": {},
   "outputs": [
    {
     "data": {
      "text/plain": [
       "{'stat': array([-3.3924296 , -5.640567  , -5.3295374 , ...,  3.966397  ,\n",
       "         1.3963292 , -0.74588513], dtype=float32),\n",
       " 'ifar': array([6.88409937e-07, 6.56594854e-07, 6.58373804e-07, ...,\n",
       "        1.55613850e-05, 2.56148508e-06, 1.01593787e-06]),\n",
       " 'time_H1': array([-1.00000000e+00, -1.00000000e+00, -1.00000000e+00, ...,\n",
       "         1.24172479e+09,  1.24172482e+09,  1.24172483e+09]),\n",
       " 'tid_H1': array([        -1,         -1,         -1, ...,  677756983, 1170487712,\n",
       "        1787500513]),\n",
       " 'coa_phase_H1': array([-1.        , -1.        , -1.        , ..., -0.10605115,\n",
       "        -0.25043085, -0.62821639]),\n",
       " 'snr_H1': array([-1.        , -1.        , -1.        , ...,  6.08852339,\n",
       "         4.79349661,  5.447474  ]),\n",
       " 'time_L1': array([ 1.24101397e+09,  1.24101399e+09,  1.24101400e+09, ...,\n",
       "        -1.00000000e+00, -1.00000000e+00, -1.00000000e+00]),\n",
       " 'tid_L1': array([1673647446, 1171055633, 2406862606, ...,         -1,         -1,\n",
       "                -1]),\n",
       " 'coa_phase_L1': array([-2.94249439, -2.97582078, -0.03757464, ..., -1.        ,\n",
       "        -1.        , -1.        ]),\n",
       " 'snr_L1': array([ 5.92893839,  4.50122929,  4.51865959, ..., -1.        ,\n",
       "        -1.        , -1.        ]),\n",
       " 'time_V1': array([1.24101397e+09, 1.24101399e+09, 1.24101400e+09, ...,\n",
       "        1.24172479e+09, 1.24172482e+09, 1.24172483e+09]),\n",
       " 'tid_V1': array([2008550684, 1405381987, 2888447001, ...,  907887387, 1567970793,\n",
       "        2394605422]),\n",
       " 'coa_phase_V1': array([-1.62854016,  2.79825687,  2.48136425, ..., -2.98684764,\n",
       "         1.43591869, -2.45099545]),\n",
       " 'snr_V1': array([5.3267684 , 5.19850254, 5.27939844, ..., 5.24301434, 6.06350136,\n",
       "        5.13288355]),\n",
       " 'mean_time': array([1.24101397e+09, 1.24101399e+09, 1.24101400e+09, ...,\n",
       "        1.24172479e+09, 1.24172482e+09, 1.24172483e+09]),\n",
       " 'mass1': array([7.11552052, 0.67252608, 1.45376702, ..., 1.48649012, 0.72059286,\n",
       "        0.43371644]),\n",
       " 'mass2': array([0.85293497, 0.24277393, 0.21116641, ..., 0.22482199, 0.22586998,\n",
       "        0.23940449]),\n",
       " 'spin1z': array([-1.26245322e-01,  6.69515254e-01, -7.30410470e-01, ...,\n",
       "        -9.84597464e-02, -6.37890822e-02,  9.00306358e-05]),\n",
       " 'spin2z': array([ 0.40008264,  0.08589546, -0.06597388, ..., -0.0699725 ,\n",
       "         0.00588524,  0.08748103])}"
      ]
     },
     "execution_count": 15,
     "metadata": {},
     "output_type": "execute_result"
    }
   ],
   "source": [
    "paramsf\n",
    "\n",
    "# tid_{ifo} field is really irrelevant after fetching all the information. Those can/should be removed to save memory."
   ]
  },
  {
   "cell_type": "code",
   "execution_count": 16,
   "id": "1d6f214c-3de8-4732-b634-983298a86f6b",
   "metadata": {},
   "outputs": [],
   "source": [
    "# section = 'background'\n",
    "# paramsb = get_trigger_info(section, sfile, bank)"
   ]
  },
  {
   "cell_type": "code",
   "execution_count": null,
   "id": "11fccc6b-946c-44b5-afd1-40a740052467",
   "metadata": {},
   "outputs": [],
   "source": []
  }
 ],
 "metadata": {
  "kernelspec": {
   "display_name": " igwn-py",
   "language": "python",
   "name": "igwn-py"
  },
  "language_info": {
   "codemirror_mode": {
    "name": "ipython",
    "version": 3
   },
   "file_extension": ".py",
   "mimetype": "text/x-python",
   "name": "python",
   "nbconvert_exporter": "python",
   "pygments_lexer": "ipython3",
   "version": "3.10.15"
  }
 },
 "nbformat": 4,
 "nbformat_minor": 5
}
