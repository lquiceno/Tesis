{
 "cells": [
  {
   "cell_type": "code",
   "execution_count": 1,
   "id": "9da73818-85f3-4fe9-a092-aefa9f885f0d",
   "metadata": {},
   "outputs": [],
   "source": [
    "import numpy as np\n",
    "import pycbc.conversions as pc\n",
    "import pycbc.pnutils as pnu\n",
    "import pandas as pd\n",
    "import h5py, os\n",
    "\n",
    "from collections import defaultdict\n",
    "\n",
    "%matplotlib inline\n",
    "import matplotlib.pyplot as plt\n",
    "import matplotlib as mpl\n",
    "import seaborn as sns\n",
    "import random\n",
    "\n",
    "import sys\n",
    "from lal import YRJUL_SI\n",
    "\n",
    "import seaborn as sns\n",
    "\n",
    "import ast"
   ]
  },
  {
   "cell_type": "code",
   "execution_count": 2,
   "id": "92cec4e2-4146-42fa-8f9d-14872e58163c",
   "metadata": {},
   "outputs": [],
   "source": [
    "def save_dict_to_hdf5(dic, filename):\n",
    "    \"\"\"\n",
    "    ....\n",
    "    \"\"\"\n",
    "    with h5py.File(filename, 'w') as h5file:\n",
    "        recursively_save_dict_contents_to_group(h5file, '/', dic)\n",
    "\n",
    "def recursively_save_dict_contents_to_group(h5file, path, dic):\n",
    "    \"\"\"\n",
    "    ....\n",
    "    \"\"\"\n",
    "    for key, item in dic.items():\n",
    "        if isinstance(item, (np.ndarray, np.int64, np.float64, str, bytes)):\n",
    "            h5file[path + key] = item\n",
    "        elif isinstance(item, dict):\n",
    "            recursively_save_dict_contents_to_group(h5file, path + key + '/', item)\n",
    "        else:\n",
    "            raise ValueError('Cannot save %s type'%type(item))\n",
    "\n",
    "def load_dict_from_hdf5(filename):\n",
    "    \"\"\"\n",
    "    ....\n",
    "    \"\"\"\n",
    "    with h5py.File(filename, 'r') as h5file:\n",
    "        return recursively_load_dict_contents_from_group(h5file, '/')\n",
    "\n",
    "def recursively_load_dict_contents_from_group(h5file, path):\n",
    "    \"\"\"\n",
    "    ....\n",
    "    \"\"\"\n",
    "    ans = {}\n",
    "    for key, item in h5file[path].items():\n",
    "        if isinstance(item, h5py._hl.dataset.Dataset):\n",
    "            ans[key] = item[()]\n",
    "        elif isinstance(item, h5py._hl.group.Group):\n",
    "            ans[key] = recursively_load_dict_contents_from_group(h5file, path + key + '/')\n",
    "            \n",
    "    return ans\n",
    "\n",
    "\n",
    "def print_some_rcParams():\n",
    "    rc_keys = ['backend', 'axes.labelsize', 'axes.titlesize', 'font.size',\n",
    "        'legend.fontsize', 'xtick.labelsize', 'ytick.labelsize', 'font.family',\n",
    "        'text.usetex', 'figure.figsize'] # 'font.sans-serif', 'font.serif'\n",
    "    print('Using the following matplotlib settings:')\n",
    "    for k in rc_keys:\n",
    "        print(k, ':', plt.rcParams[k])"
   ]
  },
  {
   "cell_type": "code",
   "execution_count": 3,
   "id": "49e98a04-bbd2-4131-8724-ead4508f8e18",
   "metadata": {},
   "outputs": [],
   "source": [
    "ifar_threshold = 10 ## yr \n",
    "number_injection = 10"
   ]
  },
  {
   "cell_type": "code",
   "execution_count": 4,
   "id": "416b1923-ee21-46a8-828e-e185705e5083",
   "metadata": {},
   "outputs": [],
   "source": [
    "pd.set_option('display.max_columns', None)\n",
    "pd.set_option('display.max_columns', None)"
   ]
  },
  {
   "cell_type": "code",
   "execution_count": 5,
   "id": "5e6e3985-8bff-42d6-a3d2-a640908daf2e",
   "metadata": {},
   "outputs": [],
   "source": [
    "#This is the first file, all events are true\n",
    "injection_file = '/home/bhooshan.gadre/work/O3/sub_solar_search/O3B_VTs/ssm-search/O3b_VTs/common_ssm_injections.hdf'\n",
    "injections = load_dict_from_hdf5(injection_file)"
   ]
  },
  {
   "cell_type": "code",
   "execution_count": 6,
   "id": "9d4fa337-1168-4a71-9f32-04fdd7109d0c",
   "metadata": {},
   "outputs": [
    {
     "data": {
      "text/html": [
       "<div>\n",
       "<style scoped>\n",
       "    .dataframe tbody tr th:only-of-type {\n",
       "        vertical-align: middle;\n",
       "    }\n",
       "\n",
       "    .dataframe tbody tr th {\n",
       "        vertical-align: top;\n",
       "    }\n",
       "\n",
       "    .dataframe thead th {\n",
       "        text-align: right;\n",
       "    }\n",
       "</style>\n",
       "<table border=\"1\" class=\"dataframe\">\n",
       "  <thead>\n",
       "    <tr style=\"text-align: right;\">\n",
       "      <th></th>\n",
       "      <th>mass1</th>\n",
       "      <th>mass2</th>\n",
       "      <th>pycbc_ifar</th>\n",
       "      <th>spin1z</th>\n",
       "      <th>spin2z</th>\n",
       "    </tr>\n",
       "  </thead>\n",
       "  <tbody>\n",
       "    <tr>\n",
       "      <th>0</th>\n",
       "      <td>1.692460</td>\n",
       "      <td>0.501600</td>\n",
       "      <td>0.0</td>\n",
       "      <td>-0.037187</td>\n",
       "      <td>0.007150</td>\n",
       "    </tr>\n",
       "    <tr>\n",
       "      <th>1</th>\n",
       "      <td>6.421466</td>\n",
       "      <td>0.763863</td>\n",
       "      <td>0.0</td>\n",
       "      <td>0.021298</td>\n",
       "      <td>0.038439</td>\n",
       "    </tr>\n",
       "    <tr>\n",
       "      <th>2</th>\n",
       "      <td>10.481894</td>\n",
       "      <td>1.045793</td>\n",
       "      <td>0.0</td>\n",
       "      <td>0.012784</td>\n",
       "      <td>-0.030501</td>\n",
       "    </tr>\n",
       "    <tr>\n",
       "      <th>3</th>\n",
       "      <td>8.906005</td>\n",
       "      <td>0.811978</td>\n",
       "      <td>0.0</td>\n",
       "      <td>-0.000504</td>\n",
       "      <td>-0.004068</td>\n",
       "    </tr>\n",
       "    <tr>\n",
       "      <th>4</th>\n",
       "      <td>7.129897</td>\n",
       "      <td>0.808812</td>\n",
       "      <td>0.0</td>\n",
       "      <td>-0.001127</td>\n",
       "      <td>-0.003302</td>\n",
       "    </tr>\n",
       "    <tr>\n",
       "      <th>...</th>\n",
       "      <td>...</td>\n",
       "      <td>...</td>\n",
       "      <td>...</td>\n",
       "      <td>...</td>\n",
       "      <td>...</td>\n",
       "    </tr>\n",
       "    <tr>\n",
       "      <th>1916578</th>\n",
       "      <td>5.784159</td>\n",
       "      <td>0.559250</td>\n",
       "      <td>0.0</td>\n",
       "      <td>-0.038265</td>\n",
       "      <td>-0.032295</td>\n",
       "    </tr>\n",
       "    <tr>\n",
       "      <th>1916579</th>\n",
       "      <td>8.621294</td>\n",
       "      <td>0.868851</td>\n",
       "      <td>0.0</td>\n",
       "      <td>0.032837</td>\n",
       "      <td>-0.010397</td>\n",
       "    </tr>\n",
       "    <tr>\n",
       "      <th>1916580</th>\n",
       "      <td>10.560706</td>\n",
       "      <td>0.717379</td>\n",
       "      <td>0.0</td>\n",
       "      <td>-0.029833</td>\n",
       "      <td>-0.031378</td>\n",
       "    </tr>\n",
       "    <tr>\n",
       "      <th>1916581</th>\n",
       "      <td>5.727628</td>\n",
       "      <td>0.886952</td>\n",
       "      <td>0.0</td>\n",
       "      <td>-0.024699</td>\n",
       "      <td>0.007844</td>\n",
       "    </tr>\n",
       "    <tr>\n",
       "      <th>1916582</th>\n",
       "      <td>4.308563</td>\n",
       "      <td>0.977853</td>\n",
       "      <td>0.0</td>\n",
       "      <td>0.001106</td>\n",
       "      <td>-0.017793</td>\n",
       "    </tr>\n",
       "  </tbody>\n",
       "</table>\n",
       "<p>1916583 rows × 5 columns</p>\n",
       "</div>"
      ],
      "text/plain": [
       "             mass1     mass2  pycbc_ifar    spin1z    spin2z\n",
       "0         1.692460  0.501600         0.0 -0.037187  0.007150\n",
       "1         6.421466  0.763863         0.0  0.021298  0.038439\n",
       "2        10.481894  1.045793         0.0  0.012784 -0.030501\n",
       "3         8.906005  0.811978         0.0 -0.000504 -0.004068\n",
       "4         7.129897  0.808812         0.0 -0.001127 -0.003302\n",
       "...            ...       ...         ...       ...       ...\n",
       "1916578   5.784159  0.559250         0.0 -0.038265 -0.032295\n",
       "1916579   8.621294  0.868851         0.0  0.032837 -0.010397\n",
       "1916580  10.560706  0.717379         0.0 -0.029833 -0.031378\n",
       "1916581   5.727628  0.886952         0.0 -0.024699  0.007844\n",
       "1916582   4.308563  0.977853         0.0  0.001106 -0.017793\n",
       "\n",
       "[1916583 rows x 5 columns]"
      ]
     },
     "execution_count": 6,
     "metadata": {},
     "output_type": "execute_result"
    }
   ],
   "source": [
    "df_true = pd.DataFrame(injections)\n",
    "\n",
    "df_true = df_true.drop(columns=['coa_phase', 'declination', 'distance', 'gstlal_ifar', 'gstlal_weight', 'inclination', 'mbta_ifar', 'polarization', \n",
    "                                'right_ascension', 'snr_H', 'snr_L', 'snr_V', 'spin1x', 'spin1y', 'spin2x', 'spin2y', 'time'])\n",
    "\n",
    "#df_true['label'] = 1\n",
    "\n",
    "df_true = df_true.rename(columns={'mass2_source': 'mass2', \n",
    "                                  'mass1_source': 'mass1'})\n",
    "\n",
    "df_true"
   ]
  },
  {
   "cell_type": "code",
   "execution_count": 7,
   "id": "103856a0-a706-4dcc-8c73-a4bfd0bbba53",
   "metadata": {},
   "outputs": [
    {
     "data": {
      "text/html": [
       "<div>\n",
       "<style scoped>\n",
       "    .dataframe tbody tr th:only-of-type {\n",
       "        vertical-align: middle;\n",
       "    }\n",
       "\n",
       "    .dataframe tbody tr th {\n",
       "        vertical-align: top;\n",
       "    }\n",
       "\n",
       "    .dataframe thead th {\n",
       "        text-align: right;\n",
       "    }\n",
       "</style>\n",
       "<table border=\"1\" class=\"dataframe\">\n",
       "  <thead>\n",
       "    <tr style=\"text-align: right;\">\n",
       "      <th></th>\n",
       "      <th>mass1</th>\n",
       "      <th>mass2</th>\n",
       "      <th>spin1z</th>\n",
       "      <th>spin2z</th>\n",
       "    </tr>\n",
       "  </thead>\n",
       "  <tbody>\n",
       "    <tr>\n",
       "      <th>0</th>\n",
       "      <td>0.504929</td>\n",
       "      <td>0.214580</td>\n",
       "      <td>-0.686235</td>\n",
       "      <td>-0.056092</td>\n",
       "    </tr>\n",
       "    <tr>\n",
       "      <th>1</th>\n",
       "      <td>1.489096</td>\n",
       "      <td>0.212058</td>\n",
       "      <td>-0.728668</td>\n",
       "      <td>0.024226</td>\n",
       "    </tr>\n",
       "    <tr>\n",
       "      <th>2</th>\n",
       "      <td>0.558495</td>\n",
       "      <td>0.204445</td>\n",
       "      <td>0.774588</td>\n",
       "      <td>0.006712</td>\n",
       "    </tr>\n",
       "    <tr>\n",
       "      <th>3</th>\n",
       "      <td>0.309922</td>\n",
       "      <td>0.200873</td>\n",
       "      <td>-0.099824</td>\n",
       "      <td>-0.078287</td>\n",
       "    </tr>\n",
       "    <tr>\n",
       "      <th>4</th>\n",
       "      <td>0.206215</td>\n",
       "      <td>0.206215</td>\n",
       "      <td>0.099892</td>\n",
       "      <td>0.099903</td>\n",
       "    </tr>\n",
       "    <tr>\n",
       "      <th>...</th>\n",
       "      <td>...</td>\n",
       "      <td>...</td>\n",
       "      <td>...</td>\n",
       "      <td>...</td>\n",
       "    </tr>\n",
       "    <tr>\n",
       "      <th>1916578</th>\n",
       "      <td>0.864843</td>\n",
       "      <td>0.247605</td>\n",
       "      <td>-0.416889</td>\n",
       "      <td>0.025385</td>\n",
       "    </tr>\n",
       "    <tr>\n",
       "      <th>1916579</th>\n",
       "      <td>0.501223</td>\n",
       "      <td>0.202115</td>\n",
       "      <td>-0.743296</td>\n",
       "      <td>-0.011618</td>\n",
       "    </tr>\n",
       "    <tr>\n",
       "      <th>1916580</th>\n",
       "      <td>0.956881</td>\n",
       "      <td>0.213006</td>\n",
       "      <td>-0.813010</td>\n",
       "      <td>0.049815</td>\n",
       "    </tr>\n",
       "    <tr>\n",
       "      <th>1916581</th>\n",
       "      <td>0.808391</td>\n",
       "      <td>0.312963</td>\n",
       "      <td>-0.449955</td>\n",
       "      <td>-0.030445</td>\n",
       "    </tr>\n",
       "    <tr>\n",
       "      <th>1916582</th>\n",
       "      <td>1.301831</td>\n",
       "      <td>0.249870</td>\n",
       "      <td>0.848400</td>\n",
       "      <td>-0.095982</td>\n",
       "    </tr>\n",
       "  </tbody>\n",
       "</table>\n",
       "<p>1916583 rows × 4 columns</p>\n",
       "</div>"
      ],
      "text/plain": [
       "            mass1     mass2    spin1z    spin2z\n",
       "0        0.504929  0.214580 -0.686235 -0.056092\n",
       "1        1.489096  0.212058 -0.728668  0.024226\n",
       "2        0.558495  0.204445  0.774588  0.006712\n",
       "3        0.309922  0.200873 -0.099824 -0.078287\n",
       "4        0.206215  0.206215  0.099892  0.099903\n",
       "...           ...       ...       ...       ...\n",
       "1916578  0.864843  0.247605 -0.416889  0.025385\n",
       "1916579  0.501223  0.202115 -0.743296 -0.011618\n",
       "1916580  0.956881  0.213006 -0.813010  0.049815\n",
       "1916581  0.808391  0.312963 -0.449955 -0.030445\n",
       "1916582  1.301831  0.249870  0.848400 -0.095982\n",
       "\n",
       "[1916583 rows x 4 columns]"
      ]
     },
     "execution_count": 7,
     "metadata": {},
     "output_type": "execute_result"
    }
   ],
   "source": [
    "background_file = '/home/lucashernan.quiceno/background/output.txt'\n",
    "\n",
    "with open(background_file, 'r') as file:\n",
    "    content = file.read()\n",
    "\n",
    "# Convert the contents of the file into a Python dictionary\n",
    "data_dict = ast.literal_eval(content.replace(\"defaultdict(<class 'list'>, \", \"\").rstrip(')'))\n",
    "\n",
    "# Convert the dictionary to a DataFrame\n",
    "df_false = pd.DataFrame(data_dict)\n",
    "\n",
    "df_false"
   ]
  },
  {
   "cell_type": "code",
   "execution_count": 8,
   "id": "cece6fd0-30c2-436e-9538-a6c1bc110af2",
   "metadata": {},
   "outputs": [],
   "source": [
    "#this the background\n",
    "trig_file = \"/home/pycbc.offline/O3/production/O3A_SUB_SOLAR/sub_solar/STATMAP/H1L1V1-COMBINE_STATMAP_FULL_DATA-1238787802-853441.hdf\"\n",
    "bank_file = \"/home/pycbc.offline/O3/production/O3A_SUB_SOLAR/sub_solar/BANK/H1L1V1-BANK2HDF-1238787802-853441.hdf\""
   ]
  },
  {
   "cell_type": "code",
   "execution_count": 9,
   "id": "3d55a740-fc17-4dda-9103-e2435a19f32f",
   "metadata": {},
   "outputs": [],
   "source": [
    "bank = h5py.File(bank_file, 'r')\n",
    "hashes = bank['template_hash'][:]\n",
    "\n",
    "bank_tids = hashes.argsort()\n",
    "fields = ['mass1', 'mass2', 'spin1z', 'spin2z']\n",
    "trigs = h5py.File(trig_file, 'r')\n",
    "\n",
    "trig_params = defaultdict(list)\n",
    "for tid in trigs['background']['template_id'][:number_injection]:  ## test with 10 triggers. Later this can be [:] for all triggers\n",
    "    bank_idx = np.argwhere(bank_tids == tid)[0]\n",
    "    for k in fields:\n",
    "        trig_params[k].append(bank[k][:][bank_idx][0])\n",
    "#print(trig_params)"
   ]
  },
  {
   "cell_type": "code",
   "execution_count": 12,
   "id": "cf4ce443-885d-4023-b605-f684621b52f6",
   "metadata": {},
   "outputs": [
    {
     "data": {
      "text/plain": [
       "39955275"
      ]
     },
     "execution_count": 12,
     "metadata": {},
     "output_type": "execute_result"
    }
   ],
   "source": [
    "len(trigs['background']['template_id'][:])"
   ]
  },
  {
   "cell_type": "code",
   "execution_count": 13,
   "id": "c38fce33-8e92-4aae-9cd3-da06eefc93ed",
   "metadata": {},
   "outputs": [
    {
     "data": {
      "text/plain": [
       "16322600"
      ]
     },
     "execution_count": 13,
     "metadata": {},
     "output_type": "execute_result"
    }
   ],
   "source": [
    "len(trigs['background_h0']['H1L1']['ifar'][:])"
   ]
  },
  {
   "cell_type": "code",
   "execution_count": 10,
   "id": "3d13197d-101e-4082-b609-dd9ce96531c3",
   "metadata": {},
   "outputs": [
    {
     "data": {
      "text/html": [
       "<div>\n",
       "<style scoped>\n",
       "    .dataframe tbody tr th:only-of-type {\n",
       "        vertical-align: middle;\n",
       "    }\n",
       "\n",
       "    .dataframe tbody tr th {\n",
       "        vertical-align: top;\n",
       "    }\n",
       "\n",
       "    .dataframe thead th {\n",
       "        text-align: right;\n",
       "    }\n",
       "</style>\n",
       "<table border=\"1\" class=\"dataframe\">\n",
       "  <thead>\n",
       "    <tr style=\"text-align: right;\">\n",
       "      <th></th>\n",
       "      <th>mass1</th>\n",
       "      <th>mass2</th>\n",
       "      <th>spin1z</th>\n",
       "      <th>spin2z</th>\n",
       "      <th>pycbc_ifar</th>\n",
       "      <th>label</th>\n",
       "    </tr>\n",
       "  </thead>\n",
       "  <tbody>\n",
       "    <tr>\n",
       "      <th>0</th>\n",
       "      <td>0.504929</td>\n",
       "      <td>0.214580</td>\n",
       "      <td>-0.686235</td>\n",
       "      <td>-0.056092</td>\n",
       "      <td>0.000314</td>\n",
       "      <td>0</td>\n",
       "    </tr>\n",
       "    <tr>\n",
       "      <th>1</th>\n",
       "      <td>1.489096</td>\n",
       "      <td>0.212058</td>\n",
       "      <td>-0.728668</td>\n",
       "      <td>0.024226</td>\n",
       "      <td>0.000070</td>\n",
       "      <td>0</td>\n",
       "    </tr>\n",
       "    <tr>\n",
       "      <th>2</th>\n",
       "      <td>0.558495</td>\n",
       "      <td>0.204445</td>\n",
       "      <td>0.774588</td>\n",
       "      <td>0.006712</td>\n",
       "      <td>0.000018</td>\n",
       "      <td>0</td>\n",
       "    </tr>\n",
       "    <tr>\n",
       "      <th>3</th>\n",
       "      <td>0.309922</td>\n",
       "      <td>0.200873</td>\n",
       "      <td>-0.099824</td>\n",
       "      <td>-0.078287</td>\n",
       "      <td>0.000821</td>\n",
       "      <td>0</td>\n",
       "    </tr>\n",
       "    <tr>\n",
       "      <th>4</th>\n",
       "      <td>0.206215</td>\n",
       "      <td>0.206215</td>\n",
       "      <td>0.099892</td>\n",
       "      <td>0.099903</td>\n",
       "      <td>0.000288</td>\n",
       "      <td>0</td>\n",
       "    </tr>\n",
       "    <tr>\n",
       "      <th>...</th>\n",
       "      <td>...</td>\n",
       "      <td>...</td>\n",
       "      <td>...</td>\n",
       "      <td>...</td>\n",
       "      <td>...</td>\n",
       "      <td>...</td>\n",
       "    </tr>\n",
       "    <tr>\n",
       "      <th>1916578</th>\n",
       "      <td>0.864843</td>\n",
       "      <td>0.247605</td>\n",
       "      <td>-0.416889</td>\n",
       "      <td>0.025385</td>\n",
       "      <td>0.000010</td>\n",
       "      <td>0</td>\n",
       "    </tr>\n",
       "    <tr>\n",
       "      <th>1916579</th>\n",
       "      <td>0.501223</td>\n",
       "      <td>0.202115</td>\n",
       "      <td>-0.743296</td>\n",
       "      <td>-0.011618</td>\n",
       "      <td>0.000011</td>\n",
       "      <td>0</td>\n",
       "    </tr>\n",
       "    <tr>\n",
       "      <th>1916580</th>\n",
       "      <td>0.956881</td>\n",
       "      <td>0.213006</td>\n",
       "      <td>-0.813010</td>\n",
       "      <td>0.049815</td>\n",
       "      <td>0.000470</td>\n",
       "      <td>0</td>\n",
       "    </tr>\n",
       "    <tr>\n",
       "      <th>1916581</th>\n",
       "      <td>0.808391</td>\n",
       "      <td>0.312963</td>\n",
       "      <td>-0.449955</td>\n",
       "      <td>-0.030445</td>\n",
       "      <td>0.000045</td>\n",
       "      <td>0</td>\n",
       "    </tr>\n",
       "    <tr>\n",
       "      <th>1916582</th>\n",
       "      <td>1.301831</td>\n",
       "      <td>0.249870</td>\n",
       "      <td>0.848400</td>\n",
       "      <td>-0.095982</td>\n",
       "      <td>0.000006</td>\n",
       "      <td>0</td>\n",
       "    </tr>\n",
       "  </tbody>\n",
       "</table>\n",
       "<p>1916583 rows × 6 columns</p>\n",
       "</div>"
      ],
      "text/plain": [
       "            mass1     mass2    spin1z    spin2z  pycbc_ifar  label\n",
       "0        0.504929  0.214580 -0.686235 -0.056092    0.000314      0\n",
       "1        1.489096  0.212058 -0.728668  0.024226    0.000070      0\n",
       "2        0.558495  0.204445  0.774588  0.006712    0.000018      0\n",
       "3        0.309922  0.200873 -0.099824 -0.078287    0.000821      0\n",
       "4        0.206215  0.206215  0.099892  0.099903    0.000288      0\n",
       "...           ...       ...       ...       ...         ...    ...\n",
       "1916578  0.864843  0.247605 -0.416889  0.025385    0.000010      0\n",
       "1916579  0.501223  0.202115 -0.743296 -0.011618    0.000011      0\n",
       "1916580  0.956881  0.213006 -0.813010  0.049815    0.000470      0\n",
       "1916581  0.808391  0.312963 -0.449955 -0.030445    0.000045      0\n",
       "1916582  1.301831  0.249870  0.848400 -0.095982    0.000006      0\n",
       "\n",
       "[1916583 rows x 6 columns]"
      ]
     },
     "execution_count": 10,
     "metadata": {},
     "output_type": "execute_result"
    }
   ],
   "source": [
    "\n",
    "df_false['pycbc_ifar'] = trigs['background_h0']['H1L1']['ifar'][:1916583]\n",
    "\n",
    "df_false['label'] = 0\n",
    "df_false"
   ]
  },
  {
   "cell_type": "code",
   "execution_count": null,
   "id": "90e62499-4800-46cb-8deb-05491a91de04",
   "metadata": {},
   "outputs": [],
   "source": []
  },
  {
   "cell_type": "code",
   "execution_count": 11,
   "id": "2b3b8085-7800-47d4-9108-0eafe2fba537",
   "metadata": {},
   "outputs": [
    {
     "data": {
      "text/html": [
       "<div>\n",
       "<style scoped>\n",
       "    .dataframe tbody tr th:only-of-type {\n",
       "        vertical-align: middle;\n",
       "    }\n",
       "\n",
       "    .dataframe tbody tr th {\n",
       "        vertical-align: top;\n",
       "    }\n",
       "\n",
       "    .dataframe thead th {\n",
       "        text-align: right;\n",
       "    }\n",
       "</style>\n",
       "<table border=\"1\" class=\"dataframe\">\n",
       "  <thead>\n",
       "    <tr style=\"text-align: right;\">\n",
       "      <th></th>\n",
       "      <th>mass1</th>\n",
       "      <th>mass2</th>\n",
       "      <th>pycbc_ifar</th>\n",
       "      <th>spin1z</th>\n",
       "      <th>spin2z</th>\n",
       "      <th>label</th>\n",
       "    </tr>\n",
       "  </thead>\n",
       "  <tbody>\n",
       "    <tr>\n",
       "      <th>0</th>\n",
       "      <td>1.692460</td>\n",
       "      <td>0.501600</td>\n",
       "      <td>0.000000</td>\n",
       "      <td>-0.037187</td>\n",
       "      <td>0.007150</td>\n",
       "      <td>NaN</td>\n",
       "    </tr>\n",
       "    <tr>\n",
       "      <th>1</th>\n",
       "      <td>6.421466</td>\n",
       "      <td>0.763863</td>\n",
       "      <td>0.000000</td>\n",
       "      <td>0.021298</td>\n",
       "      <td>0.038439</td>\n",
       "      <td>NaN</td>\n",
       "    </tr>\n",
       "    <tr>\n",
       "      <th>2</th>\n",
       "      <td>10.481894</td>\n",
       "      <td>1.045793</td>\n",
       "      <td>0.000000</td>\n",
       "      <td>0.012784</td>\n",
       "      <td>-0.030501</td>\n",
       "      <td>NaN</td>\n",
       "    </tr>\n",
       "    <tr>\n",
       "      <th>3</th>\n",
       "      <td>8.906005</td>\n",
       "      <td>0.811978</td>\n",
       "      <td>0.000000</td>\n",
       "      <td>-0.000504</td>\n",
       "      <td>-0.004068</td>\n",
       "      <td>NaN</td>\n",
       "    </tr>\n",
       "    <tr>\n",
       "      <th>4</th>\n",
       "      <td>7.129897</td>\n",
       "      <td>0.808812</td>\n",
       "      <td>0.000000</td>\n",
       "      <td>-0.001127</td>\n",
       "      <td>-0.003302</td>\n",
       "      <td>NaN</td>\n",
       "    </tr>\n",
       "    <tr>\n",
       "      <th>...</th>\n",
       "      <td>...</td>\n",
       "      <td>...</td>\n",
       "      <td>...</td>\n",
       "      <td>...</td>\n",
       "      <td>...</td>\n",
       "      <td>...</td>\n",
       "    </tr>\n",
       "    <tr>\n",
       "      <th>1916578</th>\n",
       "      <td>0.864843</td>\n",
       "      <td>0.247605</td>\n",
       "      <td>0.000010</td>\n",
       "      <td>-0.416889</td>\n",
       "      <td>0.025385</td>\n",
       "      <td>0.0</td>\n",
       "    </tr>\n",
       "    <tr>\n",
       "      <th>1916579</th>\n",
       "      <td>0.501223</td>\n",
       "      <td>0.202115</td>\n",
       "      <td>0.000011</td>\n",
       "      <td>-0.743296</td>\n",
       "      <td>-0.011618</td>\n",
       "      <td>0.0</td>\n",
       "    </tr>\n",
       "    <tr>\n",
       "      <th>1916580</th>\n",
       "      <td>0.956881</td>\n",
       "      <td>0.213006</td>\n",
       "      <td>0.000470</td>\n",
       "      <td>-0.813010</td>\n",
       "      <td>0.049815</td>\n",
       "      <td>0.0</td>\n",
       "    </tr>\n",
       "    <tr>\n",
       "      <th>1916581</th>\n",
       "      <td>0.808391</td>\n",
       "      <td>0.312963</td>\n",
       "      <td>0.000045</td>\n",
       "      <td>-0.449955</td>\n",
       "      <td>-0.030445</td>\n",
       "      <td>0.0</td>\n",
       "    </tr>\n",
       "    <tr>\n",
       "      <th>1916582</th>\n",
       "      <td>1.301831</td>\n",
       "      <td>0.249870</td>\n",
       "      <td>0.000006</td>\n",
       "      <td>0.848400</td>\n",
       "      <td>-0.095982</td>\n",
       "      <td>0.0</td>\n",
       "    </tr>\n",
       "  </tbody>\n",
       "</table>\n",
       "<p>3833166 rows × 6 columns</p>\n",
       "</div>"
      ],
      "text/plain": [
       "             mass1     mass2  pycbc_ifar    spin1z    spin2z  label\n",
       "0         1.692460  0.501600    0.000000 -0.037187  0.007150    NaN\n",
       "1         6.421466  0.763863    0.000000  0.021298  0.038439    NaN\n",
       "2        10.481894  1.045793    0.000000  0.012784 -0.030501    NaN\n",
       "3         8.906005  0.811978    0.000000 -0.000504 -0.004068    NaN\n",
       "4         7.129897  0.808812    0.000000 -0.001127 -0.003302    NaN\n",
       "...            ...       ...         ...       ...       ...    ...\n",
       "1916578   0.864843  0.247605    0.000010 -0.416889  0.025385    0.0\n",
       "1916579   0.501223  0.202115    0.000011 -0.743296 -0.011618    0.0\n",
       "1916580   0.956881  0.213006    0.000470 -0.813010  0.049815    0.0\n",
       "1916581   0.808391  0.312963    0.000045 -0.449955 -0.030445    0.0\n",
       "1916582   1.301831  0.249870    0.000006  0.848400 -0.095982    0.0\n",
       "\n",
       "[3833166 rows x 6 columns]"
      ]
     },
     "execution_count": 11,
     "metadata": {},
     "output_type": "execute_result"
    }
   ],
   "source": [
    "df = pd.concat([df_true, df_false], axis=0)\n",
    "df"
   ]
  },
  {
   "cell_type": "markdown",
   "id": "64bee4c2-ef75-4c20-a4d4-f31467fa836d",
   "metadata": {},
   "source": [
    "# Analisys with true data"
   ]
  },
  {
   "cell_type": "code",
   "execution_count": 12,
   "id": "79f4a744-5ba8-4c5a-a1ae-3ff87e631f73",
   "metadata": {},
   "outputs": [
    {
     "name": "stdout",
     "output_type": "stream",
     "text": [
      "<class 'pandas.core.frame.DataFrame'>\n",
      "RangeIndex: 1916583 entries, 0 to 1916582\n",
      "Data columns (total 5 columns):\n",
      " #   Column      Dtype  \n",
      "---  ------      -----  \n",
      " 0   mass1       float64\n",
      " 1   mass2       float64\n",
      " 2   pycbc_ifar  float64\n",
      " 3   spin1z      float64\n",
      " 4   spin2z      float64\n",
      "dtypes: float64(5)\n",
      "memory usage: 73.1 MB\n"
     ]
    }
   ],
   "source": [
    "df_true.info()"
   ]
  },
  {
   "cell_type": "code",
   "execution_count": 13,
   "id": "81b13fa7-9d15-4504-98f3-022cc14343a2",
   "metadata": {},
   "outputs": [
    {
     "data": {
      "text/html": [
       "<div>\n",
       "<style scoped>\n",
       "    .dataframe tbody tr th:only-of-type {\n",
       "        vertical-align: middle;\n",
       "    }\n",
       "\n",
       "    .dataframe tbody tr th {\n",
       "        vertical-align: top;\n",
       "    }\n",
       "\n",
       "    .dataframe thead th {\n",
       "        text-align: right;\n",
       "    }\n",
       "</style>\n",
       "<table border=\"1\" class=\"dataframe\">\n",
       "  <thead>\n",
       "    <tr style=\"text-align: right;\">\n",
       "      <th></th>\n",
       "      <th>mass1</th>\n",
       "      <th>mass2</th>\n",
       "      <th>pycbc_ifar</th>\n",
       "      <th>spin1z</th>\n",
       "      <th>spin2z</th>\n",
       "    </tr>\n",
       "  </thead>\n",
       "  <tbody>\n",
       "    <tr>\n",
       "      <th>count</th>\n",
       "      <td>1.916583e+06</td>\n",
       "      <td>1.916583e+06</td>\n",
       "      <td>1.916583e+06</td>\n",
       "      <td>1.916583e+06</td>\n",
       "      <td>1.916583e+06</td>\n",
       "    </tr>\n",
       "    <tr>\n",
       "      <th>mean</th>\n",
       "      <td>5.630262e+00</td>\n",
       "      <td>6.863977e-01</td>\n",
       "      <td>6.351753e+02</td>\n",
       "      <td>2.688936e-04</td>\n",
       "      <td>-1.911760e-06</td>\n",
       "    </tr>\n",
       "    <tr>\n",
       "      <th>std</th>\n",
       "      <td>2.906692e+00</td>\n",
       "      <td>2.533340e-01</td>\n",
       "      <td>5.483003e+03</td>\n",
       "      <td>3.329348e-02</td>\n",
       "      <td>3.330472e-02</td>\n",
       "    </tr>\n",
       "    <tr>\n",
       "      <th>min</th>\n",
       "      <td>1.958331e-01</td>\n",
       "      <td>1.900007e-01</td>\n",
       "      <td>0.000000e+00</td>\n",
       "      <td>-9.981075e-02</td>\n",
       "      <td>-9.991923e-02</td>\n",
       "    </tr>\n",
       "    <tr>\n",
       "      <th>25%</th>\n",
       "      <td>3.132707e+00</td>\n",
       "      <td>4.788347e-01</td>\n",
       "      <td>0.000000e+00</td>\n",
       "      <td>-1.827353e-02</td>\n",
       "      <td>-1.861429e-02</td>\n",
       "    </tr>\n",
       "    <tr>\n",
       "      <th>50%</th>\n",
       "      <td>5.491139e+00</td>\n",
       "      <td>7.022830e-01</td>\n",
       "      <td>0.000000e+00</td>\n",
       "      <td>8.221344e-05</td>\n",
       "      <td>7.060659e-06</td>\n",
       "    </tr>\n",
       "    <tr>\n",
       "      <th>75%</th>\n",
       "      <td>8.075941e+00</td>\n",
       "      <td>9.049654e-01</td>\n",
       "      <td>0.000000e+00</td>\n",
       "      <td>1.894186e-02</td>\n",
       "      <td>1.864963e-02</td>\n",
       "    </tr>\n",
       "    <tr>\n",
       "      <th>max</th>\n",
       "      <td>1.099997e+01</td>\n",
       "      <td>1.100000e+00</td>\n",
       "      <td>1.427988e+05</td>\n",
       "      <td>9.988072e-02</td>\n",
       "      <td>9.988070e-02</td>\n",
       "    </tr>\n",
       "  </tbody>\n",
       "</table>\n",
       "</div>"
      ],
      "text/plain": [
       "              mass1         mass2    pycbc_ifar        spin1z        spin2z\n",
       "count  1.916583e+06  1.916583e+06  1.916583e+06  1.916583e+06  1.916583e+06\n",
       "mean   5.630262e+00  6.863977e-01  6.351753e+02  2.688936e-04 -1.911760e-06\n",
       "std    2.906692e+00  2.533340e-01  5.483003e+03  3.329348e-02  3.330472e-02\n",
       "min    1.958331e-01  1.900007e-01  0.000000e+00 -9.981075e-02 -9.991923e-02\n",
       "25%    3.132707e+00  4.788347e-01  0.000000e+00 -1.827353e-02 -1.861429e-02\n",
       "50%    5.491139e+00  7.022830e-01  0.000000e+00  8.221344e-05  7.060659e-06\n",
       "75%    8.075941e+00  9.049654e-01  0.000000e+00  1.894186e-02  1.864963e-02\n",
       "max    1.099997e+01  1.100000e+00  1.427988e+05  9.988072e-02  9.988070e-02"
      ]
     },
     "execution_count": 13,
     "metadata": {},
     "output_type": "execute_result"
    }
   ],
   "source": [
    "df_true.describe()"
   ]
  },
  {
   "cell_type": "code",
   "execution_count": 14,
   "id": "8baf406b-54f6-478e-9a1e-dccd8c44ff47",
   "metadata": {},
   "outputs": [
    {
     "name": "stdout",
     "output_type": "stream",
     "text": [
      "Number of columns in 'ifar_true' equal than 0: 1845407\n"
     ]
    }
   ],
   "source": [
    "columns_equal_0 = (df_true['pycbc_ifar'] == 0).sum()\n",
    "print(f\"Number of columns in 'ifar_true' equal than 0: {columns_equal_0}\")"
   ]
  },
  {
   "cell_type": "code",
   "execution_count": 15,
   "id": "e923455a-8ff1-428a-af54-26f6ca50ecea",
   "metadata": {},
   "outputs": [
    {
     "name": "stdout",
     "output_type": "stream",
     "text": [
      "Percentage of 'ifar_true' equal to 0: 0.9628630745446454\n"
     ]
    }
   ],
   "source": [
    "print(f\"Percentage of 'ifar_true' equal to 0: {columns_equal_0/len(df_true)}\")"
   ]
  },
  {
   "cell_type": "code",
   "execution_count": 16,
   "id": "7cbd599e-e766-41bd-b1eb-56755739c60d",
   "metadata": {},
   "outputs": [
    {
     "name": "stdout",
     "output_type": "stream",
     "text": [
      "Number of columns in 'ifar_true' greater than 10: 63312\n"
     ]
    }
   ],
   "source": [
    "columns_greater_than_10 = (df_true['pycbc_ifar'] > 10).sum()\n",
    "print(f\"Number of columns in 'ifar_true' greater than 10: {columns_greater_than_10}\")"
   ]
  },
  {
   "cell_type": "code",
   "execution_count": 17,
   "id": "4b4e1f6b-2294-445a-b60f-5c35b9b6e320",
   "metadata": {},
   "outputs": [
    {
     "name": "stdout",
     "output_type": "stream",
     "text": [
      "Percentage of 'ifar_true' greater than 10: 0.03303378982282531\n"
     ]
    }
   ],
   "source": [
    "print(f\"Percentage of 'ifar_true' greater than 10: {columns_greater_than_10/len(df_true)}\")"
   ]
  },
  {
   "cell_type": "code",
   "execution_count": 18,
   "id": "fe612f2d-db65-4348-b4fe-f060495e23e4",
   "metadata": {},
   "outputs": [],
   "source": [
    "data_true = np.load('resultados_modelo_true_data.npz')\n",
    "\n",
    "# Acceder a cada array almacenado\n",
    "y_train = data_true['y_train']\n",
    "y_pred = data_true['y_pred']\n",
    "y_test = data_true['y_test']\n",
    "mape_values = data_true['mape_values']\n",
    "predictions = data_true['predictions']"
   ]
  },
  {
   "cell_type": "code",
   "execution_count": 19,
   "id": "cea8a9e6-6321-4157-ac2a-051fd6cbe1d6",
   "metadata": {},
   "outputs": [
    {
     "data": {
      "text/plain": [
       "50605"
      ]
     },
     "execution_count": 19,
     "metadata": {},
     "output_type": "execute_result"
    }
   ],
   "source": [
    "(y_train > 10).sum()"
   ]
  },
  {
   "cell_type": "code",
   "execution_count": 20,
   "id": "ae211d1f-86d2-4efb-97cf-768220381bef",
   "metadata": {},
   "outputs": [
    {
     "data": {
      "text/plain": [
       "(1533266, 383317, 383317)"
      ]
     },
     "execution_count": 20,
     "metadata": {},
     "output_type": "execute_result"
    }
   ],
   "source": [
    "len(y_train), len(y_test), len(y_pred)"
   ]
  },
  {
   "cell_type": "code",
   "execution_count": 21,
   "id": "910017d5-fefb-4412-b63c-46767b47b3dd",
   "metadata": {},
   "outputs": [
    {
     "data": {
      "text/plain": [
       "count    383317.000000\n",
       "mean        628.643870\n",
       "std        5477.191202\n",
       "min           0.000000\n",
       "25%           0.000000\n",
       "50%           0.000000\n",
       "75%           0.000000\n",
       "max      142798.765113\n",
       "dtype: float64"
      ]
     },
     "execution_count": 21,
     "metadata": {},
     "output_type": "execute_result"
    }
   ],
   "source": [
    "pd.Series(y_test).describe()"
   ]
  },
  {
   "cell_type": "code",
   "execution_count": 22,
   "id": "95b2a796-c5a1-4bee-a2a5-a39c57342268",
   "metadata": {},
   "outputs": [
    {
     "name": "stdout",
     "output_type": "stream",
     "text": [
      "Number of columns in 'y_test' equal  0: 369054\n"
     ]
    }
   ],
   "source": [
    "columns_equal_0_test = (y_test == 0).sum()\n",
    "print(f\"Number of columns in 'y_test' equal  0: {columns_equal_0_test}\")"
   ]
  },
  {
   "cell_type": "code",
   "execution_count": 23,
   "id": "03ecc45b-2088-4e70-807c-a6736b8ccbe1",
   "metadata": {},
   "outputs": [
    {
     "name": "stdout",
     "output_type": "stream",
     "text": [
      "Percentage of 'y_test' equal to 0: 0.9627905884685521\n"
     ]
    }
   ],
   "source": [
    "print(f\"Percentage of 'y_test' equal to 0: {columns_equal_0_test/len(y_test)}\")"
   ]
  },
  {
   "cell_type": "code",
   "execution_count": 24,
   "id": "147672a9-97c0-49e6-9408-b191f12f07bb",
   "metadata": {},
   "outputs": [
    {
     "name": "stdout",
     "output_type": "stream",
     "text": [
      "Number of columns in 'y_test' greater than 10: 12707\n"
     ]
    }
   ],
   "source": [
    "columns_greater_than_10_test = (y_test > 10).sum()\n",
    "print(f\"Number of columns in 'y_test' greater than 10: {columns_greater_than_10_test}\")"
   ]
  },
  {
   "cell_type": "code",
   "execution_count": 25,
   "id": "92fd37cd-6678-476c-b3a6-bf68629ba6c4",
   "metadata": {},
   "outputs": [
    {
     "name": "stdout",
     "output_type": "stream",
     "text": [
      "Percentage of 'y_test' greater than 10: 0.033150108135042274\n"
     ]
    }
   ],
   "source": [
    "print(f\"Percentage of 'y_test' greater than 10: {columns_greater_than_10_test/len(y_test)}\")"
   ]
  },
  {
   "cell_type": "code",
   "execution_count": 26,
   "id": "2c5cba36-971b-4aeb-bd7d-562f71fa3574",
   "metadata": {},
   "outputs": [
    {
     "data": {
      "text/plain": [
       "count    383317.000000\n",
       "mean        706.805888\n",
       "std        1081.515994\n",
       "min           0.000000\n",
       "25%           0.207592\n",
       "50%         253.240645\n",
       "75%        1024.639935\n",
       "max       41674.510798\n",
       "dtype: float64"
      ]
     },
     "execution_count": 26,
     "metadata": {},
     "output_type": "execute_result"
    }
   ],
   "source": [
    "pd.Series(y_pred).describe()"
   ]
  },
  {
   "cell_type": "code",
   "execution_count": 27,
   "id": "6111c80e-5ea5-404d-a3b3-889492cc5880",
   "metadata": {},
   "outputs": [
    {
     "name": "stdout",
     "output_type": "stream",
     "text": [
      "Number of columns in 'y_pred' equal  0: 81814\n"
     ]
    }
   ],
   "source": [
    "columns_equal_0_pred = (y_pred == 0).sum()\n",
    "print(f\"Number of columns in 'y_pred' equal  0: {columns_equal_0_pred}\")"
   ]
  },
  {
   "cell_type": "code",
   "execution_count": 28,
   "id": "127bef16-f7d3-4a8d-b253-0dbdd265fe81",
   "metadata": {},
   "outputs": [
    {
     "name": "stdout",
     "output_type": "stream",
     "text": [
      "Percentage of 'y_pred' equal to 0: 0.2134369203557369\n"
     ]
    }
   ],
   "source": [
    "print(f\"Percentage of 'y_pred' equal to 0: {columns_equal_0_pred/len(y_pred)}\")"
   ]
  },
  {
   "cell_type": "code",
   "execution_count": 29,
   "id": "b7be244b-e57f-42a5-84cd-2f76f5e1f414",
   "metadata": {},
   "outputs": [
    {
     "name": "stdout",
     "output_type": "stream",
     "text": [
      "Number of columns in 'y_test' greater than 10: 268856\n"
     ]
    }
   ],
   "source": [
    "columns_greater_than_10_pred = (y_pred > 10).sum()\n",
    "print(f\"Number of columns in 'y_test' greater than 10: {columns_greater_than_10_pred}\")"
   ]
  },
  {
   "cell_type": "code",
   "execution_count": 30,
   "id": "e7e8d2b8-9fb6-49a3-b174-f45157c801fe",
   "metadata": {},
   "outputs": [
    {
     "name": "stdout",
     "output_type": "stream",
     "text": [
      "Percentage of 'y_test' greater than 10: 0.7013933637172366\n"
     ]
    }
   ],
   "source": [
    "print(f\"Percentage of 'y_test' greater than 10: {columns_greater_than_10_pred/len(y_pred)}\")"
   ]
  },
  {
   "cell_type": "markdown",
   "id": "1fbd81fc-df90-466a-b0a4-6f414551ec72",
   "metadata": {},
   "source": [
    "# New Analysis with ifar > 10"
   ]
  },
  {
   "cell_type": "code",
   "execution_count": 54,
   "id": "b9f608ae-d638-4e50-9829-741aeca498c1",
   "metadata": {},
   "outputs": [
    {
     "data": {
      "text/html": [
       "<div>\n",
       "<style scoped>\n",
       "    .dataframe tbody tr th:only-of-type {\n",
       "        vertical-align: middle;\n",
       "    }\n",
       "\n",
       "    .dataframe tbody tr th {\n",
       "        vertical-align: top;\n",
       "    }\n",
       "\n",
       "    .dataframe thead th {\n",
       "        text-align: right;\n",
       "    }\n",
       "</style>\n",
       "<table border=\"1\" class=\"dataframe\">\n",
       "  <thead>\n",
       "    <tr style=\"text-align: right;\">\n",
       "      <th></th>\n",
       "      <th>mass1</th>\n",
       "      <th>mass2</th>\n",
       "      <th>pycbc_ifar</th>\n",
       "      <th>spin1z</th>\n",
       "      <th>spin2z</th>\n",
       "    </tr>\n",
       "  </thead>\n",
       "  <tbody>\n",
       "    <tr>\n",
       "      <th>17</th>\n",
       "      <td>10.044697</td>\n",
       "      <td>0.771064</td>\n",
       "      <td>10174.474264</td>\n",
       "      <td>0.003799</td>\n",
       "      <td>-0.034952</td>\n",
       "    </tr>\n",
       "    <tr>\n",
       "      <th>39</th>\n",
       "      <td>9.871082</td>\n",
       "      <td>0.608848</td>\n",
       "      <td>10174.474264</td>\n",
       "      <td>0.003390</td>\n",
       "      <td>0.002160</td>\n",
       "    </tr>\n",
       "    <tr>\n",
       "      <th>45</th>\n",
       "      <td>6.012620</td>\n",
       "      <td>0.290126</td>\n",
       "      <td>10174.474264</td>\n",
       "      <td>0.022516</td>\n",
       "      <td>0.025649</td>\n",
       "    </tr>\n",
       "    <tr>\n",
       "      <th>52</th>\n",
       "      <td>1.566219</td>\n",
       "      <td>0.522978</td>\n",
       "      <td>10174.474264</td>\n",
       "      <td>0.032162</td>\n",
       "      <td>-0.004396</td>\n",
       "    </tr>\n",
       "    <tr>\n",
       "      <th>59</th>\n",
       "      <td>5.331335</td>\n",
       "      <td>0.458099</td>\n",
       "      <td>10174.474264</td>\n",
       "      <td>-0.004934</td>\n",
       "      <td>0.009750</td>\n",
       "    </tr>\n",
       "    <tr>\n",
       "      <th>...</th>\n",
       "      <td>...</td>\n",
       "      <td>...</td>\n",
       "      <td>...</td>\n",
       "      <td>...</td>\n",
       "      <td>...</td>\n",
       "    </tr>\n",
       "    <tr>\n",
       "      <th>1903266</th>\n",
       "      <td>6.626040</td>\n",
       "      <td>0.982731</td>\n",
       "      <td>69.997932</td>\n",
       "      <td>-0.030900</td>\n",
       "      <td>-0.025199</td>\n",
       "    </tr>\n",
       "    <tr>\n",
       "      <th>1903269</th>\n",
       "      <td>10.661847</td>\n",
       "      <td>0.462810</td>\n",
       "      <td>25146.646963</td>\n",
       "      <td>0.011288</td>\n",
       "      <td>0.066585</td>\n",
       "    </tr>\n",
       "    <tr>\n",
       "      <th>1903305</th>\n",
       "      <td>2.810979</td>\n",
       "      <td>0.813847</td>\n",
       "      <td>54.111754</td>\n",
       "      <td>0.012777</td>\n",
       "      <td>-0.049325</td>\n",
       "    </tr>\n",
       "    <tr>\n",
       "      <th>1903359</th>\n",
       "      <td>8.898606</td>\n",
       "      <td>0.641294</td>\n",
       "      <td>25146.646963</td>\n",
       "      <td>-0.067872</td>\n",
       "      <td>-0.015317</td>\n",
       "    </tr>\n",
       "    <tr>\n",
       "      <th>1903364</th>\n",
       "      <td>1.922085</td>\n",
       "      <td>1.097171</td>\n",
       "      <td>22.362068</td>\n",
       "      <td>-0.012574</td>\n",
       "      <td>-0.052471</td>\n",
       "    </tr>\n",
       "  </tbody>\n",
       "</table>\n",
       "<p>63312 rows × 5 columns</p>\n",
       "</div>"
      ],
      "text/plain": [
       "             mass1     mass2    pycbc_ifar    spin1z    spin2z\n",
       "17       10.044697  0.771064  10174.474264  0.003799 -0.034952\n",
       "39        9.871082  0.608848  10174.474264  0.003390  0.002160\n",
       "45        6.012620  0.290126  10174.474264  0.022516  0.025649\n",
       "52        1.566219  0.522978  10174.474264  0.032162 -0.004396\n",
       "59        5.331335  0.458099  10174.474264 -0.004934  0.009750\n",
       "...            ...       ...           ...       ...       ...\n",
       "1903266   6.626040  0.982731     69.997932 -0.030900 -0.025199\n",
       "1903269  10.661847  0.462810  25146.646963  0.011288  0.066585\n",
       "1903305   2.810979  0.813847     54.111754  0.012777 -0.049325\n",
       "1903359   8.898606  0.641294  25146.646963 -0.067872 -0.015317\n",
       "1903364   1.922085  1.097171     22.362068 -0.012574 -0.052471\n",
       "\n",
       "[63312 rows x 5 columns]"
      ]
     },
     "execution_count": 54,
     "metadata": {},
     "output_type": "execute_result"
    }
   ],
   "source": [
    "df_true_10 = df_true[df_true['pycbc_ifar'] > 10]\n",
    "df_true_10"
   ]
  },
  {
   "cell_type": "code",
   "execution_count": 55,
   "id": "84cc6940-1da9-401f-b2ad-8e50e88f4369",
   "metadata": {},
   "outputs": [],
   "source": [
    "from sklearn.model_selection import train_test_split\n",
    "from sklearn.ensemble import RandomForestRegressor\n",
    "from sklearn.metrics import mean_squared_error, r2_score, mean_absolute_error, mean_absolute_percentage_error\n",
    "import matplotlib.pyplot as plt\n",
    "import seaborn as sns"
   ]
  },
  {
   "cell_type": "code",
   "execution_count": 56,
   "id": "2a684b10-9628-48bf-84a2-929b33dca6af",
   "metadata": {},
   "outputs": [
    {
     "name": "stdout",
     "output_type": "stream",
     "text": [
      "<class 'pandas.core.frame.DataFrame'>\n",
      "Int64Index: 63312 entries, 17 to 1903364\n",
      "Data columns (total 5 columns):\n",
      " #   Column      Non-Null Count  Dtype  \n",
      "---  ------      --------------  -----  \n",
      " 0   mass1       63312 non-null  float64\n",
      " 1   mass2       63312 non-null  float64\n",
      " 2   pycbc_ifar  63312 non-null  float64\n",
      " 3   spin1z      63312 non-null  float64\n",
      " 4   spin2z      63312 non-null  float64\n",
      "dtypes: float64(5)\n",
      "memory usage: 2.9 MB\n"
     ]
    }
   ],
   "source": [
    "df_true_10.info()"
   ]
  },
  {
   "cell_type": "code",
   "execution_count": 57,
   "id": "f0f8a200-2f9a-42f9-b61a-16d16f6d156a",
   "metadata": {},
   "outputs": [
    {
     "data": {
      "text/html": [
       "<div>\n",
       "<style scoped>\n",
       "    .dataframe tbody tr th:only-of-type {\n",
       "        vertical-align: middle;\n",
       "    }\n",
       "\n",
       "    .dataframe tbody tr th {\n",
       "        vertical-align: top;\n",
       "    }\n",
       "\n",
       "    .dataframe thead th {\n",
       "        text-align: right;\n",
       "    }\n",
       "</style>\n",
       "<table border=\"1\" class=\"dataframe\">\n",
       "  <thead>\n",
       "    <tr style=\"text-align: right;\">\n",
       "      <th></th>\n",
       "      <th>mass1</th>\n",
       "      <th>mass2</th>\n",
       "      <th>pycbc_ifar</th>\n",
       "      <th>spin1z</th>\n",
       "      <th>spin2z</th>\n",
       "    </tr>\n",
       "  </thead>\n",
       "  <tbody>\n",
       "    <tr>\n",
       "      <th>count</th>\n",
       "      <td>63312.000000</td>\n",
       "      <td>63312.000000</td>\n",
       "      <td>63312.000000</td>\n",
       "      <td>63312.000000</td>\n",
       "      <td>63312.000000</td>\n",
       "    </tr>\n",
       "    <tr>\n",
       "      <th>mean</th>\n",
       "      <td>5.383882</td>\n",
       "      <td>0.684438</td>\n",
       "      <td>19227.671304</td>\n",
       "      <td>0.000500</td>\n",
       "      <td>-0.000093</td>\n",
       "    </tr>\n",
       "    <tr>\n",
       "      <th>std</th>\n",
       "      <td>2.847447</td>\n",
       "      <td>0.247258</td>\n",
       "      <td>23507.359703</td>\n",
       "      <td>0.033351</td>\n",
       "      <td>0.033146</td>\n",
       "    </tr>\n",
       "    <tr>\n",
       "      <th>min</th>\n",
       "      <td>0.226180</td>\n",
       "      <td>0.190010</td>\n",
       "      <td>10.005148</td>\n",
       "      <td>-0.099592</td>\n",
       "      <td>-0.099779</td>\n",
       "    </tr>\n",
       "    <tr>\n",
       "      <th>25%</th>\n",
       "      <td>2.950139</td>\n",
       "      <td>0.484471</td>\n",
       "      <td>7892.849440</td>\n",
       "      <td>-0.018034</td>\n",
       "      <td>-0.018864</td>\n",
       "    </tr>\n",
       "    <tr>\n",
       "      <th>50%</th>\n",
       "      <td>5.208983</td>\n",
       "      <td>0.700131</td>\n",
       "      <td>10776.944676</td>\n",
       "      <td>0.000157</td>\n",
       "      <td>-0.000059</td>\n",
       "    </tr>\n",
       "    <tr>\n",
       "      <th>75%</th>\n",
       "      <td>7.699286</td>\n",
       "      <td>0.893496</td>\n",
       "      <td>17538.416094</td>\n",
       "      <td>0.019170</td>\n",
       "      <td>0.018613</td>\n",
       "    </tr>\n",
       "    <tr>\n",
       "      <th>max</th>\n",
       "      <td>10.999429</td>\n",
       "      <td>1.099973</td>\n",
       "      <td>142798.765113</td>\n",
       "      <td>0.098532</td>\n",
       "      <td>0.099760</td>\n",
       "    </tr>\n",
       "  </tbody>\n",
       "</table>\n",
       "</div>"
      ],
      "text/plain": [
       "              mass1         mass2     pycbc_ifar        spin1z        spin2z\n",
       "count  63312.000000  63312.000000   63312.000000  63312.000000  63312.000000\n",
       "mean       5.383882      0.684438   19227.671304      0.000500     -0.000093\n",
       "std        2.847447      0.247258   23507.359703      0.033351      0.033146\n",
       "min        0.226180      0.190010      10.005148     -0.099592     -0.099779\n",
       "25%        2.950139      0.484471    7892.849440     -0.018034     -0.018864\n",
       "50%        5.208983      0.700131   10776.944676      0.000157     -0.000059\n",
       "75%        7.699286      0.893496   17538.416094      0.019170      0.018613\n",
       "max       10.999429      1.099973  142798.765113      0.098532      0.099760"
      ]
     },
     "execution_count": 57,
     "metadata": {},
     "output_type": "execute_result"
    }
   ],
   "source": [
    "df_true_10.describe()"
   ]
  },
  {
   "cell_type": "code",
   "execution_count": 58,
   "id": "c739851b-a7f6-4953-8307-3b13cc123304",
   "metadata": {},
   "outputs": [],
   "source": [
    "def evaluate_random_forest(X, y, n_estimators_values):\n",
    "    # Dividir los datos en conjunto de entrenamiento y prueba\n",
    "    X_train, X_test, y_train, y_test = train_test_split(X, y, test_size=0.2, random_state=42)\n",
    "    \n",
    "    # Definir y entrenar el modelo\n",
    "    model = RandomForestRegressor(n_estimators=n_estimators_values, random_state=42)\n",
    "    model.fit(X_train, y_train)\n",
    "    \n",
    "    # Hacer predicciones sobre el conjunto de prueba\n",
    "    y_pred = model.predict(X_test)\n",
    "    \n",
    "    # Calcular métricas\n",
    "    mse = mean_squared_error(y_test, y_pred)\n",
    "    rmse = mse ** 0.5\n",
    "    mae = mean_absolute_error(y_test, y_pred)\n",
    "    mape = mean_absolute_percentage_error(y_test, y_pred)\n",
    "    r2 = r2_score(y_test, y_pred)\n",
    "    \n",
    "    # Calcular el porcentaje de predicciones superiores a un umbral\n",
    "    ifar_threshold = 10  # Se asume que este es el umbral que deseas utilizar\n",
    "    prediction_value = (y_pred > ifar_threshold).sum() / len(y_test) * 100\n",
    "    \n",
    "    # Imprimir los resultados\n",
    "    print(f\"len(y_test) con n_estimators_values={n_estimators_values}: {len(y_test)}\")\n",
    "    print(f\"(y_test > 10).sum() con n_estimators_values={n_estimators_values}: {(y_test > ifar_threshold).sum()}\")\n",
    "    print(f\"(y_pred > 10).sum() con n_estimators_values={n_estimators_values}: {(y_pred > ifar_threshold).sum()}\")\n",
    "    print(f\"predicción con n_estimators_values={n_estimators_values}: {prediction_value:.2f}%\")\n",
    "    print(f\"MSE con n_estimators_values={n_estimators_values}: {mse:.4f}\")\n",
    "    print(f\"RMSE con n_estimators_values={n_estimators_values}: {rmse:.4f}\")\n",
    "    print(f\"MAE con n_estimators_values={n_estimators_values}: {mae:.4f}\")\n",
    "    print(f\"MAPE con n_estimators_values={n_estimators_values}: {mape:.4f}\")\n",
    "    print(f\"R^2 con n_estimators_values={n_estimators_values}: {r2:.4f}\")\n",
    "    print(\"-\" * 40)"
   ]
  },
  {
   "cell_type": "markdown",
   "id": "e078d815-665e-424a-bb2b-68b195619969",
   "metadata": {},
   "source": [
    "# n_estimators_values = 3"
   ]
  },
  {
   "cell_type": "code",
   "execution_count": 59,
   "id": "99abbb75-9484-4136-aa88-1424d1a8639e",
   "metadata": {},
   "outputs": [
    {
     "name": "stdout",
     "output_type": "stream",
     "text": [
      "len(y_test) con n_estimators_values=3: 12663\n",
      "(y_test > 10).sum() con n_estimators_values=3: 12663\n",
      "(y_pred > 10).sum() con n_estimators_values=3: 12663\n",
      "predicción con n_estimators_values=3: 100.00%\n",
      "MSE con n_estimators_values=3: 788522819.8761\n",
      "RMSE con n_estimators_values=3: 28080.6485\n",
      "MAE con n_estimators_values=3: 20165.4831\n",
      "MAPE con n_estimators_values=3: 74.3200\n",
      "R^2 con n_estimators_values=3: -0.4246\n",
      "----------------------------------------\n"
     ]
    }
   ],
   "source": [
    "X = df_true_10[['mass1', 'mass2', 'spin1z', 'spin2z']]\n",
    "y = df_true_10['pycbc_ifar']\n",
    "n_estimators_values = 3\n",
    "\n",
    "evaluate_random_forest(X, y, n_estimators_values)"
   ]
  },
  {
   "cell_type": "markdown",
   "id": "c0e370c2-1dc1-4287-9239-0e18a31615dc",
   "metadata": {},
   "source": [
    "# n_estimators_values = 20"
   ]
  },
  {
   "cell_type": "code",
   "execution_count": 60,
   "id": "19455bd5-4c56-4afb-975f-ff0ae9ec54bf",
   "metadata": {},
   "outputs": [
    {
     "name": "stdout",
     "output_type": "stream",
     "text": [
      "len(y_test) con n_estimators_values=20: 12663\n",
      "(y_test > 10).sum() con n_estimators_values=20: 12663\n",
      "(y_pred > 10).sum() con n_estimators_values=20: 12663\n",
      "predicción con n_estimators_values=20: 100.00%\n",
      "MSE con n_estimators_values=20: 608373197.8849\n",
      "RMSE con n_estimators_values=20: 24665.2224\n",
      "MAE con n_estimators_values=20: 18226.8428\n",
      "MAPE con n_estimators_values=20: 73.4676\n",
      "R^2 con n_estimators_values=20: -0.0991\n",
      "----------------------------------------\n"
     ]
    }
   ],
   "source": [
    "X = df_true_10[['mass1', 'mass2', 'spin1z', 'spin2z']]\n",
    "y = df_true_10['pycbc_ifar']\n",
    "n_estimators_values = 20\n",
    "\n",
    "evaluate_random_forest(X, y, n_estimators_values)"
   ]
  },
  {
   "cell_type": "markdown",
   "id": "b39e24a9-90cb-43d5-b474-a75dcc116e84",
   "metadata": {},
   "source": [
    "# n_estimators_values = 100"
   ]
  },
  {
   "cell_type": "code",
   "execution_count": 61,
   "id": "11fedbf0-8705-448a-a4de-cf3f58bc4069",
   "metadata": {},
   "outputs": [
    {
     "name": "stdout",
     "output_type": "stream",
     "text": [
      "len(y_test) con n_estimators_values=100: 12663\n",
      "(y_test > 10).sum() con n_estimators_values=100: 12663\n",
      "(y_pred > 10).sum() con n_estimators_values=100: 12663\n",
      "predicción con n_estimators_values=100: 100.00%\n",
      "MSE con n_estimators_values=100: 582439791.0876\n",
      "RMSE con n_estimators_values=100: 24133.7894\n",
      "MAE con n_estimators_values=100: 18008.7550\n",
      "MAPE con n_estimators_values=100: 73.5853\n",
      "R^2 con n_estimators_values=100: -0.0523\n",
      "----------------------------------------\n"
     ]
    }
   ],
   "source": [
    "X = df_true_10[['mass1', 'mass2', 'spin1z', 'spin2z']]\n",
    "y = df_true_10['pycbc_ifar']\n",
    "n_estimators_values = 100\n",
    "\n",
    "evaluate_random_forest(X, y, n_estimators_values)"
   ]
  },
  {
   "cell_type": "markdown",
   "id": "f778a02e-8c2d-4bf9-981f-f2926a6c306b",
   "metadata": {},
   "source": [
    "# Other dataframe. Original dataframe with all data df, true and false and then make the cut "
   ]
  },
  {
   "cell_type": "code",
   "execution_count": 62,
   "id": "17d649b3-7f33-48d6-bb72-b1cbf6ca162e",
   "metadata": {},
   "outputs": [
    {
     "data": {
      "text/html": [
       "<div>\n",
       "<style scoped>\n",
       "    .dataframe tbody tr th:only-of-type {\n",
       "        vertical-align: middle;\n",
       "    }\n",
       "\n",
       "    .dataframe tbody tr th {\n",
       "        vertical-align: top;\n",
       "    }\n",
       "\n",
       "    .dataframe thead th {\n",
       "        text-align: right;\n",
       "    }\n",
       "</style>\n",
       "<table border=\"1\" class=\"dataframe\">\n",
       "  <thead>\n",
       "    <tr style=\"text-align: right;\">\n",
       "      <th></th>\n",
       "      <th>mass1</th>\n",
       "      <th>mass2</th>\n",
       "      <th>pycbc_ifar</th>\n",
       "      <th>spin1z</th>\n",
       "      <th>spin2z</th>\n",
       "      <th>label</th>\n",
       "    </tr>\n",
       "  </thead>\n",
       "  <tbody>\n",
       "    <tr>\n",
       "      <th>17</th>\n",
       "      <td>10.044697</td>\n",
       "      <td>0.771064</td>\n",
       "      <td>10174.474264</td>\n",
       "      <td>0.003799</td>\n",
       "      <td>-0.034952</td>\n",
       "      <td>NaN</td>\n",
       "    </tr>\n",
       "    <tr>\n",
       "      <th>39</th>\n",
       "      <td>9.871082</td>\n",
       "      <td>0.608848</td>\n",
       "      <td>10174.474264</td>\n",
       "      <td>0.003390</td>\n",
       "      <td>0.002160</td>\n",
       "      <td>NaN</td>\n",
       "    </tr>\n",
       "    <tr>\n",
       "      <th>45</th>\n",
       "      <td>6.012620</td>\n",
       "      <td>0.290126</td>\n",
       "      <td>10174.474264</td>\n",
       "      <td>0.022516</td>\n",
       "      <td>0.025649</td>\n",
       "      <td>NaN</td>\n",
       "    </tr>\n",
       "    <tr>\n",
       "      <th>52</th>\n",
       "      <td>1.566219</td>\n",
       "      <td>0.522978</td>\n",
       "      <td>10174.474264</td>\n",
       "      <td>0.032162</td>\n",
       "      <td>-0.004396</td>\n",
       "      <td>NaN</td>\n",
       "    </tr>\n",
       "    <tr>\n",
       "      <th>59</th>\n",
       "      <td>5.331335</td>\n",
       "      <td>0.458099</td>\n",
       "      <td>10174.474264</td>\n",
       "      <td>-0.004934</td>\n",
       "      <td>0.009750</td>\n",
       "      <td>NaN</td>\n",
       "    </tr>\n",
       "    <tr>\n",
       "      <th>...</th>\n",
       "      <td>...</td>\n",
       "      <td>...</td>\n",
       "      <td>...</td>\n",
       "      <td>...</td>\n",
       "      <td>...</td>\n",
       "      <td>...</td>\n",
       "    </tr>\n",
       "    <tr>\n",
       "      <th>1894031</th>\n",
       "      <td>1.393201</td>\n",
       "      <td>0.215449</td>\n",
       "      <td>24.438800</td>\n",
       "      <td>-0.809985</td>\n",
       "      <td>0.041113</td>\n",
       "      <td>0.0</td>\n",
       "    </tr>\n",
       "    <tr>\n",
       "      <th>1900545</th>\n",
       "      <td>0.724096</td>\n",
       "      <td>0.245961</td>\n",
       "      <td>14.287633</td>\n",
       "      <td>0.733550</td>\n",
       "      <td>-0.012316</td>\n",
       "      <td>0.0</td>\n",
       "    </tr>\n",
       "    <tr>\n",
       "      <th>1904515</th>\n",
       "      <td>0.211373</td>\n",
       "      <td>0.211373</td>\n",
       "      <td>111.671741</td>\n",
       "      <td>0.096349</td>\n",
       "      <td>0.013501</td>\n",
       "      <td>0.0</td>\n",
       "    </tr>\n",
       "    <tr>\n",
       "      <th>1906231</th>\n",
       "      <td>5.292538</td>\n",
       "      <td>0.577691</td>\n",
       "      <td>31.285468</td>\n",
       "      <td>-0.679952</td>\n",
       "      <td>-0.791074</td>\n",
       "      <td>0.0</td>\n",
       "    </tr>\n",
       "    <tr>\n",
       "      <th>1914521</th>\n",
       "      <td>0.216305</td>\n",
       "      <td>0.202742</td>\n",
       "      <td>17.857558</td>\n",
       "      <td>-0.010368</td>\n",
       "      <td>-0.063788</td>\n",
       "      <td>0.0</td>\n",
       "    </tr>\n",
       "  </tbody>\n",
       "</table>\n",
       "<p>63670 rows × 6 columns</p>\n",
       "</div>"
      ],
      "text/plain": [
       "             mass1     mass2    pycbc_ifar    spin1z    spin2z  label\n",
       "17       10.044697  0.771064  10174.474264  0.003799 -0.034952    NaN\n",
       "39        9.871082  0.608848  10174.474264  0.003390  0.002160    NaN\n",
       "45        6.012620  0.290126  10174.474264  0.022516  0.025649    NaN\n",
       "52        1.566219  0.522978  10174.474264  0.032162 -0.004396    NaN\n",
       "59        5.331335  0.458099  10174.474264 -0.004934  0.009750    NaN\n",
       "...            ...       ...           ...       ...       ...    ...\n",
       "1894031   1.393201  0.215449     24.438800 -0.809985  0.041113    0.0\n",
       "1900545   0.724096  0.245961     14.287633  0.733550 -0.012316    0.0\n",
       "1904515   0.211373  0.211373    111.671741  0.096349  0.013501    0.0\n",
       "1906231   5.292538  0.577691     31.285468 -0.679952 -0.791074    0.0\n",
       "1914521   0.216305  0.202742     17.857558 -0.010368 -0.063788    0.0\n",
       "\n",
       "[63670 rows x 6 columns]"
      ]
     },
     "execution_count": 62,
     "metadata": {},
     "output_type": "execute_result"
    }
   ],
   "source": [
    "df_all_10 = df[df['pycbc_ifar'] > 10]\n",
    "df_all_10"
   ]
  },
  {
   "cell_type": "code",
   "execution_count": 63,
   "id": "d2629343-4dea-45f9-a3f9-0a284c8d42bd",
   "metadata": {},
   "outputs": [
    {
     "name": "stdout",
     "output_type": "stream",
     "text": [
      "len(y_test) con n_estimators_values=10: 12734\n",
      "(y_test > 10).sum() con n_estimators_values=10: 12734\n",
      "(y_pred > 10).sum() con n_estimators_values=10: 12734\n",
      "predicción con n_estimators_values=10: 100.00%\n",
      "MSE con n_estimators_values=10: 642600673.8685\n",
      "RMSE con n_estimators_values=10: 25349.5695\n",
      "MAE con n_estimators_values=10: 18529.7483\n",
      "MAPE con n_estimators_values=10: 72.9841\n",
      "R^2 con n_estimators_values=10: -0.1527\n",
      "----------------------------------------\n"
     ]
    }
   ],
   "source": [
    "X = df_all_10[['mass1', 'mass2', 'spin1z', 'spin2z']]\n",
    "y = df_all_10['pycbc_ifar']\n",
    "n_estimators_values = 10\n",
    "\n",
    "evaluate_random_forest(X, y, n_estimators_values)"
   ]
  },
  {
   "cell_type": "code",
   "execution_count": 64,
   "id": "985f9a2b-8bd8-4ba4-b2cb-268682a12a3b",
   "metadata": {},
   "outputs": [
    {
     "name": "stdout",
     "output_type": "stream",
     "text": [
      "len(y_test) con n_estimators_values=100: 12734\n",
      "(y_test > 10).sum() con n_estimators_values=100: 12734\n",
      "(y_pred > 10).sum() con n_estimators_values=100: 12734\n",
      "predicción con n_estimators_values=100: 100.00%\n",
      "MSE con n_estimators_values=100: 587032930.7422\n",
      "RMSE con n_estimators_values=100: 24228.7625\n",
      "MAE con n_estimators_values=100: 18027.0655\n",
      "MAPE con n_estimators_values=100: 74.2746\n",
      "R^2 con n_estimators_values=100: -0.0530\n",
      "----------------------------------------\n"
     ]
    }
   ],
   "source": [
    "X = df_all_10[['mass1', 'mass2', 'spin1z', 'spin2z']]\n",
    "y = df_all_10['pycbc_ifar']\n",
    "n_estimators_values = 100\n",
    "\n",
    "evaluate_random_forest(X, y, n_estimators_values)"
   ]
  },
  {
   "cell_type": "markdown",
   "id": "76a80da8-0c09-4a24-baf2-66a72de8b150",
   "metadata": {},
   "source": [
    "# Other datafram. true>10 and false>10 and then concave"
   ]
  },
  {
   "cell_type": "code",
   "execution_count": 68,
   "id": "7d45a0a7-4d99-40a4-811c-fbad50dde000",
   "metadata": {},
   "outputs": [
    {
     "data": {
      "text/html": [
       "<div>\n",
       "<style scoped>\n",
       "    .dataframe tbody tr th:only-of-type {\n",
       "        vertical-align: middle;\n",
       "    }\n",
       "\n",
       "    .dataframe tbody tr th {\n",
       "        vertical-align: top;\n",
       "    }\n",
       "\n",
       "    .dataframe thead th {\n",
       "        text-align: right;\n",
       "    }\n",
       "</style>\n",
       "<table border=\"1\" class=\"dataframe\">\n",
       "  <thead>\n",
       "    <tr style=\"text-align: right;\">\n",
       "      <th></th>\n",
       "      <th>mass1</th>\n",
       "      <th>mass2</th>\n",
       "      <th>spin1z</th>\n",
       "      <th>spin2z</th>\n",
       "      <th>pycbc_ifar</th>\n",
       "      <th>label</th>\n",
       "    </tr>\n",
       "  </thead>\n",
       "  <tbody>\n",
       "    <tr>\n",
       "      <th>6239</th>\n",
       "      <td>1.129211</td>\n",
       "      <td>0.494514</td>\n",
       "      <td>-0.899860</td>\n",
       "      <td>-0.072271</td>\n",
       "      <td>10.197039</td>\n",
       "      <td>0</td>\n",
       "    </tr>\n",
       "    <tr>\n",
       "      <th>7751</th>\n",
       "      <td>0.547399</td>\n",
       "      <td>0.217088</td>\n",
       "      <td>0.441201</td>\n",
       "      <td>-0.037319</td>\n",
       "      <td>10.022269</td>\n",
       "      <td>0</td>\n",
       "    </tr>\n",
       "    <tr>\n",
       "      <th>8683</th>\n",
       "      <td>0.278654</td>\n",
       "      <td>0.224332</td>\n",
       "      <td>0.064740</td>\n",
       "      <td>0.078906</td>\n",
       "      <td>16.918181</td>\n",
       "      <td>0</td>\n",
       "    </tr>\n",
       "    <tr>\n",
       "      <th>11147</th>\n",
       "      <td>0.399051</td>\n",
       "      <td>0.200079</td>\n",
       "      <td>-0.099922</td>\n",
       "      <td>-0.099576</td>\n",
       "      <td>183.779780</td>\n",
       "      <td>0</td>\n",
       "    </tr>\n",
       "    <tr>\n",
       "      <th>14208</th>\n",
       "      <td>0.357954</td>\n",
       "      <td>0.201382</td>\n",
       "      <td>-0.097487</td>\n",
       "      <td>-0.097118</td>\n",
       "      <td>11.724922</td>\n",
       "      <td>0</td>\n",
       "    </tr>\n",
       "    <tr>\n",
       "      <th>...</th>\n",
       "      <td>...</td>\n",
       "      <td>...</td>\n",
       "      <td>...</td>\n",
       "      <td>...</td>\n",
       "      <td>...</td>\n",
       "      <td>...</td>\n",
       "    </tr>\n",
       "    <tr>\n",
       "      <th>1894031</th>\n",
       "      <td>1.393201</td>\n",
       "      <td>0.215449</td>\n",
       "      <td>-0.809985</td>\n",
       "      <td>0.041113</td>\n",
       "      <td>24.438800</td>\n",
       "      <td>0</td>\n",
       "    </tr>\n",
       "    <tr>\n",
       "      <th>1900545</th>\n",
       "      <td>0.724096</td>\n",
       "      <td>0.245961</td>\n",
       "      <td>0.733550</td>\n",
       "      <td>-0.012316</td>\n",
       "      <td>14.287633</td>\n",
       "      <td>0</td>\n",
       "    </tr>\n",
       "    <tr>\n",
       "      <th>1904515</th>\n",
       "      <td>0.211373</td>\n",
       "      <td>0.211373</td>\n",
       "      <td>0.096349</td>\n",
       "      <td>0.013501</td>\n",
       "      <td>111.671741</td>\n",
       "      <td>0</td>\n",
       "    </tr>\n",
       "    <tr>\n",
       "      <th>1906231</th>\n",
       "      <td>5.292538</td>\n",
       "      <td>0.577691</td>\n",
       "      <td>-0.679952</td>\n",
       "      <td>-0.791074</td>\n",
       "      <td>31.285468</td>\n",
       "      <td>0</td>\n",
       "    </tr>\n",
       "    <tr>\n",
       "      <th>1914521</th>\n",
       "      <td>0.216305</td>\n",
       "      <td>0.202742</td>\n",
       "      <td>-0.010368</td>\n",
       "      <td>-0.063788</td>\n",
       "      <td>17.857558</td>\n",
       "      <td>0</td>\n",
       "    </tr>\n",
       "  </tbody>\n",
       "</table>\n",
       "<p>358 rows × 6 columns</p>\n",
       "</div>"
      ],
      "text/plain": [
       "            mass1     mass2    spin1z    spin2z  pycbc_ifar  label\n",
       "6239     1.129211  0.494514 -0.899860 -0.072271   10.197039      0\n",
       "7751     0.547399  0.217088  0.441201 -0.037319   10.022269      0\n",
       "8683     0.278654  0.224332  0.064740  0.078906   16.918181      0\n",
       "11147    0.399051  0.200079 -0.099922 -0.099576  183.779780      0\n",
       "14208    0.357954  0.201382 -0.097487 -0.097118   11.724922      0\n",
       "...           ...       ...       ...       ...         ...    ...\n",
       "1894031  1.393201  0.215449 -0.809985  0.041113   24.438800      0\n",
       "1900545  0.724096  0.245961  0.733550 -0.012316   14.287633      0\n",
       "1904515  0.211373  0.211373  0.096349  0.013501  111.671741      0\n",
       "1906231  5.292538  0.577691 -0.679952 -0.791074   31.285468      0\n",
       "1914521  0.216305  0.202742 -0.010368 -0.063788   17.857558      0\n",
       "\n",
       "[358 rows x 6 columns]"
      ]
     },
     "execution_count": 68,
     "metadata": {},
     "output_type": "execute_result"
    }
   ],
   "source": [
    "df_false_10 = df_false[df_false['pycbc_ifar'] > 10]\n",
    "df_false_10"
   ]
  },
  {
   "cell_type": "code",
   "execution_count": 69,
   "id": "fc6f4e35-d9bb-484b-9e73-64f94ce8fb16",
   "metadata": {},
   "outputs": [
    {
     "data": {
      "text/html": [
       "<div>\n",
       "<style scoped>\n",
       "    .dataframe tbody tr th:only-of-type {\n",
       "        vertical-align: middle;\n",
       "    }\n",
       "\n",
       "    .dataframe tbody tr th {\n",
       "        vertical-align: top;\n",
       "    }\n",
       "\n",
       "    .dataframe thead th {\n",
       "        text-align: right;\n",
       "    }\n",
       "</style>\n",
       "<table border=\"1\" class=\"dataframe\">\n",
       "  <thead>\n",
       "    <tr style=\"text-align: right;\">\n",
       "      <th></th>\n",
       "      <th>mass1</th>\n",
       "      <th>mass2</th>\n",
       "      <th>pycbc_ifar</th>\n",
       "      <th>spin1z</th>\n",
       "      <th>spin2z</th>\n",
       "      <th>label</th>\n",
       "    </tr>\n",
       "  </thead>\n",
       "  <tbody>\n",
       "    <tr>\n",
       "      <th>17</th>\n",
       "      <td>10.044697</td>\n",
       "      <td>0.771064</td>\n",
       "      <td>10174.474264</td>\n",
       "      <td>0.003799</td>\n",
       "      <td>-0.034952</td>\n",
       "      <td>NaN</td>\n",
       "    </tr>\n",
       "    <tr>\n",
       "      <th>39</th>\n",
       "      <td>9.871082</td>\n",
       "      <td>0.608848</td>\n",
       "      <td>10174.474264</td>\n",
       "      <td>0.003390</td>\n",
       "      <td>0.002160</td>\n",
       "      <td>NaN</td>\n",
       "    </tr>\n",
       "    <tr>\n",
       "      <th>45</th>\n",
       "      <td>6.012620</td>\n",
       "      <td>0.290126</td>\n",
       "      <td>10174.474264</td>\n",
       "      <td>0.022516</td>\n",
       "      <td>0.025649</td>\n",
       "      <td>NaN</td>\n",
       "    </tr>\n",
       "    <tr>\n",
       "      <th>52</th>\n",
       "      <td>1.566219</td>\n",
       "      <td>0.522978</td>\n",
       "      <td>10174.474264</td>\n",
       "      <td>0.032162</td>\n",
       "      <td>-0.004396</td>\n",
       "      <td>NaN</td>\n",
       "    </tr>\n",
       "    <tr>\n",
       "      <th>59</th>\n",
       "      <td>5.331335</td>\n",
       "      <td>0.458099</td>\n",
       "      <td>10174.474264</td>\n",
       "      <td>-0.004934</td>\n",
       "      <td>0.009750</td>\n",
       "      <td>NaN</td>\n",
       "    </tr>\n",
       "    <tr>\n",
       "      <th>...</th>\n",
       "      <td>...</td>\n",
       "      <td>...</td>\n",
       "      <td>...</td>\n",
       "      <td>...</td>\n",
       "      <td>...</td>\n",
       "      <td>...</td>\n",
       "    </tr>\n",
       "    <tr>\n",
       "      <th>1894031</th>\n",
       "      <td>1.393201</td>\n",
       "      <td>0.215449</td>\n",
       "      <td>24.438800</td>\n",
       "      <td>-0.809985</td>\n",
       "      <td>0.041113</td>\n",
       "      <td>0.0</td>\n",
       "    </tr>\n",
       "    <tr>\n",
       "      <th>1900545</th>\n",
       "      <td>0.724096</td>\n",
       "      <td>0.245961</td>\n",
       "      <td>14.287633</td>\n",
       "      <td>0.733550</td>\n",
       "      <td>-0.012316</td>\n",
       "      <td>0.0</td>\n",
       "    </tr>\n",
       "    <tr>\n",
       "      <th>1904515</th>\n",
       "      <td>0.211373</td>\n",
       "      <td>0.211373</td>\n",
       "      <td>111.671741</td>\n",
       "      <td>0.096349</td>\n",
       "      <td>0.013501</td>\n",
       "      <td>0.0</td>\n",
       "    </tr>\n",
       "    <tr>\n",
       "      <th>1906231</th>\n",
       "      <td>5.292538</td>\n",
       "      <td>0.577691</td>\n",
       "      <td>31.285468</td>\n",
       "      <td>-0.679952</td>\n",
       "      <td>-0.791074</td>\n",
       "      <td>0.0</td>\n",
       "    </tr>\n",
       "    <tr>\n",
       "      <th>1914521</th>\n",
       "      <td>0.216305</td>\n",
       "      <td>0.202742</td>\n",
       "      <td>17.857558</td>\n",
       "      <td>-0.010368</td>\n",
       "      <td>-0.063788</td>\n",
       "      <td>0.0</td>\n",
       "    </tr>\n",
       "  </tbody>\n",
       "</table>\n",
       "<p>63670 rows × 6 columns</p>\n",
       "</div>"
      ],
      "text/plain": [
       "             mass1     mass2    pycbc_ifar    spin1z    spin2z  label\n",
       "17       10.044697  0.771064  10174.474264  0.003799 -0.034952    NaN\n",
       "39        9.871082  0.608848  10174.474264  0.003390  0.002160    NaN\n",
       "45        6.012620  0.290126  10174.474264  0.022516  0.025649    NaN\n",
       "52        1.566219  0.522978  10174.474264  0.032162 -0.004396    NaN\n",
       "59        5.331335  0.458099  10174.474264 -0.004934  0.009750    NaN\n",
       "...            ...       ...           ...       ...       ...    ...\n",
       "1894031   1.393201  0.215449     24.438800 -0.809985  0.041113    0.0\n",
       "1900545   0.724096  0.245961     14.287633  0.733550 -0.012316    0.0\n",
       "1904515   0.211373  0.211373    111.671741  0.096349  0.013501    0.0\n",
       "1906231   5.292538  0.577691     31.285468 -0.679952 -0.791074    0.0\n",
       "1914521   0.216305  0.202742     17.857558 -0.010368 -0.063788    0.0\n",
       "\n",
       "[63670 rows x 6 columns]"
      ]
     },
     "execution_count": 69,
     "metadata": {},
     "output_type": "execute_result"
    }
   ],
   "source": [
    "df__cut = pd.concat([df_true_10, df_false_10], axis=0)\n",
    "df__cut"
   ]
  },
  {
   "cell_type": "code",
   "execution_count": 70,
   "id": "a2874892-e415-4c5d-b8b3-0559037d3951",
   "metadata": {},
   "outputs": [
    {
     "name": "stdout",
     "output_type": "stream",
     "text": [
      "len(y_test) con n_estimators_values=100: 12734\n",
      "(y_test > 10).sum() con n_estimators_values=100: 12734\n",
      "(y_pred > 10).sum() con n_estimators_values=100: 12734\n",
      "predicción con n_estimators_values=100: 100.00%\n",
      "MSE con n_estimators_values=100: 587032930.7422\n",
      "RMSE con n_estimators_values=100: 24228.7625\n",
      "MAE con n_estimators_values=100: 18027.0655\n",
      "MAPE con n_estimators_values=100: 74.2746\n",
      "R^2 con n_estimators_values=100: -0.0530\n",
      "----------------------------------------\n"
     ]
    }
   ],
   "source": [
    "X = df__cut[['mass1', 'mass2', 'spin1z', 'spin2z']]\n",
    "y = df__cut['pycbc_ifar']\n",
    "n_estimators_values = 100\n",
    "\n",
    "evaluate_random_forest(X, y, n_estimators_values)"
   ]
  },
  {
   "cell_type": "code",
   "execution_count": null,
   "id": "661ba94f-7ae0-448c-9005-49f06c5bb85e",
   "metadata": {},
   "outputs": [],
   "source": []
  }
 ],
 "metadata": {
  "kernelspec": {
   "display_name": "icarogw2.0",
   "language": "python",
   "name": "icarogw2.0"
  },
  "language_info": {
   "codemirror_mode": {
    "name": "ipython",
    "version": 3
   },
   "file_extension": ".py",
   "mimetype": "text/x-python",
   "name": "python",
   "nbconvert_exporter": "python",
   "pygments_lexer": "ipython3",
   "version": "3.9.7"
  }
 },
 "nbformat": 4,
 "nbformat_minor": 5
}
